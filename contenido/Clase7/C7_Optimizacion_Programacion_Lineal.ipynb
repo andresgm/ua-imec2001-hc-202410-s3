{
 "cells": [
  {
   "cell_type": "markdown",
   "metadata": {},
   "source": [
    "# IMEC2001 Herramientas Computacionales \n",
    "### Clase 7: Optimización estática , programación lineal\n",
    "Universidad de los Andes\n",
    "\n",
    "---\n",
    "\n",
    "## TABLA DE CONTENIDO\n",
    "\n",
    "- 1.1. Librerías\n",
    "- 1.2. Introducción - Programación lineal\n",
    "- 1.3. Otras funciones"
   ]
  },
  {
   "cell_type": "markdown",
   "metadata": {},
   "source": [
    "<a id=\"section1\"></a>\n",
    "## 1.1. Introducción\n"
   ]
  },
  {
   "cell_type": "code",
   "execution_count": 1,
   "metadata": {},
   "outputs": [],
   "source": [
    "# Datos y Gráficas\n",
    "%matplotlib inline\n",
    "import matplotlib.pyplot as plt\n",
    "\n",
    "# Optimización\n",
    "import numpy as np\n",
    "from scipy import optimize"
   ]
  },
  {
   "cell_type": "markdown",
   "metadata": {},
   "source": [
    "## 1.2. Introducción\n",
    "\n",
    "La optimización es un campo fundamental en las ciencias y la ingeniería, donde se busca encontrar los valores óptimos de ciertas variables, generalmente sujetas a restricciones, con el objetivo de maximizar o minimizar una función objetivo. La biblioteca scipy.optimize es una herramienta poderosa en Python que ofrece una amplia gama de algoritmos y métodos para abordar problemas de optimización.\n",
    "\n",
    "Entre estos métodos, la programación lineal es una técnica poderosa y ampliamente utilizada, que se centra en la maximización o minimización de una función lineal, llamada función objetivo, sujeta a un conjunto de restricciones lineales. Estas restricciones y la función objetivo deben expresarse como ecuaciones o desigualdades lineales."
   ]
  },
  {
   "cell_type": "markdown",
   "metadata": {},
   "source": [
    "Veamos un ejemplo\n",
    "\n",
    "$\n",
    "Minimizar:\n",
    "    4x+3y\n",
    "Con:\n",
    "    x>=0\n",
    "    y>=0\n",
    "    -2x+y<20\n",
    "$\n",
    "\n",
    "\n"
   ]
  },
  {
   "cell_type": "code",
   "execution_count": 10,
   "metadata": {
    "scrolled": true
   },
   "outputs": [
    {
     "name": "stdout",
     "output_type": "stream",
     "text": [
      "Resultado de la optimización:\n",
      "Valor óptimo de x:6.43\n",
      "Valor óptimo de y:7.14\n",
      "Valor óptimo de la función objetivo:47.14\n"
     ]
    }
   ],
   "source": [
    "from scipy.optimize import linprog\n",
    "# Coeficientes de la función objetivo\n",
    "c = [-4, -3]\n",
    "\n",
    "# Coeficientes de las restricciones (lado izquierdo de las desigualdades)\n",
    "A = [[2, 1], [-4, 5]]\n",
    "\n",
    "# Límites superiores de las restricciones (lado derecho de las desigualdades)\n",
    "b = [20, 10]\n",
    "\n",
    "# Límites de las variables (x >= 0, y >= 0)\n",
    "x_bounds = (0, None)\n",
    "y_bounds = (0, None)\n",
    "\n",
    "# Resolver el problema de programación lineal\n",
    "result = linprog(c, A_ub=A, b_ub=b, bounds=[x_bounds, y_bounds])\n",
    "\n",
    "# Imprimir el resultado\n",
    "print(\"Resultado de la optimización:\")\n",
    "print(\"Valor óptimo de x:{:1.2f}\".format(result.x[0]))\n",
    "print(\"Valor óptimo de y:{:1.2f}\".format(result.x[1]))\n",
    "print(\"Valor óptimo de la función objetivo:{:1.2f}\".format(-result.fun))  # Negativo"
   ]
  },
  {
   "cell_type": "markdown",
   "metadata": {},
   "source": [
    "En este ejemplo, definimos los coeficientes de la función objetivo c, los coeficientes de las restricciones A, y los límites superiores de las restricciones b. También especificamos los límites de las variables x e y utilizando bounds. Luego, llamamos a linprog para resolver el problema de programación lineal. Finalmente, imprimimos el resultado que incluye los valores óptimos de x e y y el valor óptimo de la función objetivo.\n",
    "\n",
    "Este código encontraría los valores óptimos de xx e yy que minimizan f(x,y) sujetos a las restricciones dadas.\n",
    "\n",
    "Observe que linprog solo sirve para minimizar f. Si requiere maximizar podría minimizar -f.\n",
    "\n",
    "Las opciones de método para resolver problemas de programación lineal con scipy.optimize.linprog:\n",
    "\n",
    "    method=\"interior-point\" selecciona el método de punto interior. Esta opción está configurada de forma predeterminada.\n",
    "\n",
    "    method=\"revised simplex\" selecciona el método simplex de dos fases."
   ]
  },
  {
   "cell_type": "markdown",
   "metadata": {},
   "source": [
    "## 1.3. Otros métodos\n",
    "\n",
    "scipy.optimize.minimize es una función extremadamente versátil que permite la optimización multivariable sobre modelos que no necesariamente son lineales. A diferencia de scipy.optimize.linprog, que está específicamente diseñado para problemas de programación lineal, scipy.optimize.minimize puede manejar una amplia gama de problemas de optimización, incluidos aquellos con funciones objetivo no lineales y restricciones no lineales.\n",
    "\n",
    "Aquí hay algunas características clave de scipy.optimize.minimize:\n",
    "\n",
    "Flexibilidad en la función objetivo: scipy.optimize.minimize puede manejar funciones objetivo que son no lineales y no necesariamente convexas. Esto permite abordar una variedad de problemas de optimización, incluidos los que involucran funciones complicadas o no diferenciables.\n",
    "\n",
    "Manejo de restricciones no lineales: Además de la función objetivo no lineal, scipy.optimize.minimize puede manejar restricciones no lineales tanto de igualdad como de desigualdad. Esto es crucial para modelar problemas del mundo real que a menudo involucran restricciones complejas.\n",
    "\n",
    "Amplia variedad de algoritmos: scipy.optimize.minimize ofrece una amplia gama de algoritmos de optimización, lo que permite a los usuarios elegir el método más apropiado para su problema específico. Algunos de estos algoritmos incluyen el método de Newton conjugado (CG), el método de BFGS, el método Nelder-Mead, el método de confianza del gradiente truncado (trust-constr), entre otros.\n",
    "\n",
    "Parámetros personalizables: La función scipy.optimize.minimize proporciona una serie de parámetros opcionales que permiten a los usuarios ajustar el comportamiento del algoritmo de optimización. Estos parámetros incluyen tolerancias de convergencia, límites de iteraciones, estrategias de actualización de paso, entre otros."
   ]
  },
  {
   "cell_type": "markdown",
   "metadata": {},
   "source": [
    "Por ejemplo, supongamos que queremos minimizar la función \n",
    "\n",
    "$f(x)=(x−2)^2+5cos⁡(x).$\n",
    "$Con −2≤x≤4$"
   ]
  },
  {
   "cell_type": "code",
   "execution_count": 11,
   "metadata": {},
   "outputs": [
    {
     "name": "stdout",
     "output_type": "stream",
     "text": [
      "El mínimo de la función se encuentra en x = 2.811151293010092\n",
      "El valor mínimo de la función es f(x) = -4.071529737698274\n"
     ]
    }
   ],
   "source": [
    "import numpy as np\n",
    "from scipy.optimize import minimize\n",
    "\n",
    "# Definir la función objetivo\n",
    "def objective_function(x):\n",
    "    return (x - 2)**2 + 5 * np.cos(x)\n",
    "\n",
    "# Especificar un punto inicial para la optimización\n",
    "initial_guess = 0\n",
    "\n",
    "# Resolver el problema de optimización\n",
    "result = minimize(objective_function, initial_guess, bounds=[(-2, 4)])\n",
    "\n",
    "# Imprimir el resultado\n",
    "print(\"El mínimo de la función se encuentra en x =\", result.x[0])\n",
    "print(\"El valor mínimo de la función es f(x) =\", result.fun)\n"
   ]
  }
 ],
 "metadata": {
  "kernelspec": {
   "display_name": "Python 3 (ipykernel)",
   "language": "python",
   "name": "python3"
  },
  "language_info": {
   "codemirror_mode": {
    "name": "ipython",
    "version": 3
   },
   "file_extension": ".py",
   "mimetype": "text/x-python",
   "name": "python",
   "nbconvert_exporter": "python",
   "pygments_lexer": "ipython3",
   "version": "3.10.8"
  },
  "toc": {
   "base_numbering": 1,
   "nav_menu": {},
   "number_sections": false,
   "sideBar": true,
   "skip_h1_title": true,
   "title_cell": "Table of Contents",
   "title_sidebar": "Contents",
   "toc_cell": false,
   "toc_position": {},
   "toc_section_display": true,
   "toc_window_display": false
  },
  "vscode": {
   "interpreter": {
    "hash": "9f12aee310b8281ef9ce2211b67f1da3216244ae69bebf1f667f53f24fdf1ef3"
   }
  }
 },
 "nbformat": 4,
 "nbformat_minor": 2
}
