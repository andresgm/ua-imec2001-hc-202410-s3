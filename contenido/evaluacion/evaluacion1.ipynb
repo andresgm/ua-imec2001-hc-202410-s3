{
 "cells": [
  {
   "cell_type": "markdown",
   "metadata": {},
   "source": [
    "# Evaluación 1\n",
    "\n",
    "Muchas veces no se cuenta con datos técnicos de máquinas o equipos en forma de una función matemática explícita, sino en forma tabulada o en gráficas. Si es necesario utilizar esa información para hacer cálculos, se requiere generar una función mediante un ajuste o una interpolación para conocer los valores en puntos intermedios.\n",
    "\n",
    "Un ejemplo son las curvas de desempeño de las bombas, en la que la cabeza del sistema de bombeo es una función del caudal para condiciones de operación específicas. A continuación se puede ver un ejemplo del libro de Mecánica de Fluidos de White:\n",
    "\n",
    "<img src=\"./img/bomba.png\" />\n",
    "\n",
    "Donde las líneas contínuas rosas hacen referencia a la función de cabeza vs caudal, las líneas negras a eficiencia de la bomba y la línea gruesa representa la NPSH, la altura máxima de la bomba sobre la superficie del agua para un funcionamiento adecuado sin cavitación. En este caso, es de interés realizar una interpolación de las diferentes gráficas. La interpolación permitirá tener una función para calcular la cabez correspondiente a cualquier caudal de operación.\n",
    "\n",
    "<i class=\"fa fa-info-circle\" aria-hidden=\"true\"></i>\n",
    "Se sugiere ver el video explicativo de las curvas de las bombas dando [clic aquí](https://www.youtube.com/watch?v=wz20Ug5t5c0).\n",
    "</div>\n",
    "\n",
    "Para la interpolación de los datos de las bombas debe extraer a ojo los valores de la cabeza para algunos caudales, por ejemplo, los correspondientes a las marcas de las gráficas. Investigue el desempeño de algunas de las funciones de interpolación disponibles en python, graficando el resulado para evaluar su desempeño:\n",
    "\n",
    "\n",
    "1. Interpolación polinómica [[``.interp1d``](https://docs.scipy.org/doc/scipy/reference/generated/scipy.interpolate.interp1d.html#scipy.interpolate.interp1d)] \n",
    "3. Interpolación Lagrange   [[``.lagrange``](https://docs.scipy.org/doc/scipy/reference/generated/scipy.interpolate.lagrange.html#scipy.interpolate.lagrange)]\n",
    "4. Interpolación Splines    [[``.splev``](https://docs.scipy.org/doc/scipy/reference/generated/scipy.interpolate.splev.html#scipy.interpolate.splev)] [[``.splev``]](https://docs.scipy.org/doc/scipy/reference/generated/scipy.interpolate.splrep.html#scipy.interpolate.splrep) "
   ]
  },
  {
   "cell_type": "markdown",
   "metadata": {},
   "source": [
    "Ahora consideramos la siguiente pregunta:\n",
    "\n",
    "<div class=\"alert alert-block alert-success\">\n",
    "Dada una tubería cilíndrica y componentes adicionales como válvulas y codos, qué cabeza generaría este sistema?\n",
    "</div>\n",
    "\n",
    "Algunas variables y conceptos importantes para responder esta pregunta son:\n",
    "- Rugosidad de la pared.\n",
    "- Número de Reynolds que indica el tipo de flujo (laminar o turbulento).\n",
    "- Caudal."
   ]
  },
  {
   "cell_type": "markdown",
   "metadata": {},
   "source": [
    "## 1.2. Número de Reynolds\n",
    "\n",
    "Relación entre las *fuerzas de inercia* y las *fuerzas viscosas* de un fluido que permiten determinar si el flujo es laminar o turbulento.\n",
    "\n",
    "$$\n",
    "Re = \\frac{\\rho V D}{\\mu} = \\frac{V D}{\\nu}\n",
    "$$\n",
    "\n",
    "Siendo $\\rho$ la densidad del fluido, $V$ la velocidad de flujo, $D$ el diámetro interno de la tubería, $\\mu$ la viscosidad dinámica del fluido y $\\nu$ la viscosidad cinemática del fluido.\n",
    "\n",
    "La **viscosidad dinámica $\\mu$** es la resistencia interna entre las moléculas de un fluido en movimiento y determina las fuerzas que lo mueven y deforman. Por otra parte, la **viscosidad cinemática $\\nu$** se puede entender como la resistencia del fluido al movimiento.\n",
    "\n",
    "Típicamente:\n",
    "- Flujo laminar cuando $Re \\leq 2300$\n",
    "- Flujo turbulento cuando $Re > 2300$\n",
    "\n",
    "Además, el flujo turbulento es más común que el laminar. Esta figura con muesta el fenómeno:\n",
    "\n",
    "<img src='./img/flows.gif' width='350' height='350' />"
   ]
  },
  {
   "cell_type": "markdown",
   "metadata": {},
   "source": [
    "## 1.3. Coeficiente de Fricción\n",
    "\n",
    "La fricción dada por las paredes del conducto causan una pérdida de carga $h_f$ (es decir, **reducen la cabeza**).\n",
    "\n",
    "$$\n",
    "h_f = f \\frac{L}{D} \\frac{V^2}{2g}\n",
    "$$\n",
    "\n",
    "Siendo:\n",
    "- $f$ el **coeficiente de fricción de Darcy**.\n",
    "- $L$ la longitud de la tubería.\n",
    "- $D$ el diámetro de la tubería.\n",
    "- $V$ la velocidad del fluido.\n",
    "- $g$ la gravedad.\n",
    "\n",
    "En general, el coeficiente de fricción de Darcy es función de $Re$ y la rugosidad de la pared $\\varepsilon$.\n",
    "\n",
    "También, recordemos que:\n",
    "\n",
    "$$\n",
    "Q = VA \\rightarrow V = \\frac{Q}{A}\n",
    "$$\n",
    "\n",
    "y\n",
    "\n",
    "$$\n",
    "A = \\frac{\\pi D^2}{4}\n",
    "$$\n",
    "\n",
    "Siendo $A$ el área transversal de la tubería cilíndrica."
   ]
  },
  {
   "cell_type": "markdown",
   "metadata": {},
   "source": [
    "## 1.4. Flujo Laminar\n",
    "\n",
    "Recordemos que el flujo dentro de una tubería es *laminar* cuando $Re \\leq 2300$. Para este caso, el coeficiente de fricción de Darcy es: <br><br>\n",
    "\n",
    "<font color=\"blue\">\n",
    "    \n",
    "$$\n",
    "f = \\frac{64}{Re}\n",
    "$$\n",
    "    \n",
    "</font>\n",
    "\n",
    "**Nota:** La derivación de esta relación se presenta en la Sección 6.4 de la lectura White - Mecánica de Fluidos (Ch. 6) en Bloque Neón > Contenido > Semana 4 > Lecturas > White, Mecánica de Fluidos (Ch. 6)."
   ]
  },
  {
   "cell_type": "markdown",
   "metadata": {},
   "source": [
    "## 1.5. Flujo Turbulento\n",
    "\n",
    "Recordemos que el flujo dentro de una tubería es *turbulento* cuando $Re > 2300$. Para este caso, el coeficiente de fricción de Darcy es: <br><br>\n",
    "\n",
    "<font color=\"blue\">\n",
    "\n",
    "$$\n",
    "\\frac{1}{\\sqrt{f}} = -2 \\log{\\left( \\frac{\\varepsilon / D}{3.7} + \\frac{2.51}{Re \\sqrt{f}} \\right)}\n",
    "$$\n",
    "\n",
    "</font>\n",
    "\n",
    "Esta ecuación es también conocida como la **ecuación de Colebrook-White**.\n",
    "\n",
    "**Nota:** La derivación de esta relación se presenta en la Sección 6.6 de la lectura White - Mecánica de Fluidos (Ch. 6) en Bloque Neón > Contenido > Semana 4 > Lecturas > White, Mecánica de Fluidos (Ch. 6)."
   ]
  },
  {
   "cell_type": "markdown",
   "metadata": {},
   "source": [
    "## 1.6. Diagrama de Moody\n",
    "\n",
    "El diagrama de Moody muestra los valores del coeficiente de fricción para algunos valores de Re, y rugosidad relativa.\n",
    "\n",
    "<img src='./img/moody2.png' width='800' height='800' />\n",
    "\n",
    "Sin embargo, para poder hacer cálculos más sofísticados sería necesario desarrollar un algoritmo que permite calcular el coeficiente para cualquier conjunto de parámetros que uno desee.\n",
    "\n",
    "Implemente dicho procedimiento."
   ]
  },
  {
   "cell_type": "markdown",
   "metadata": {},
   "source": [
    "Implemente una función que permita calcular la cabeza de pérdidas por fricción para cualquier conjunto de parámetros de la tubería."
   ]
  },
  {
   "cell_type": "markdown",
   "metadata": {},
   "source": [
    "Las pérdidas totales en una tubería están dadas por la suma de las pérdidas por fricción, pérdidas en accesorios y presión hidrostática de la siguiente manera:\n",
    "\n",
    "$$\n",
    "h_T = h_f + h_k + h_m\n",
    "$$\n",
    "\n",
    "Donde $h_k$ está dado por:\n",
    "\n",
    "$$\n",
    "h_k = \\frac{V^2}{2g} \\sum{k_i}\n",
    "$$\n",
    "\n",
    "Donde $k_i$ corresponde a las pérdidas de cada uno de los accesorios."
   ]
  },
  {
   "cell_type": "markdown",
   "metadata": {},
   "source": [
    "Escriba una función que permita calcular la cabeza de pérdidas totales para una tubería dados los parámetros de operación. Verfique gráficamente que corresponde a una función parabólica."
   ]
  },
  {
   "cell_type": "markdown",
   "metadata": {},
   "source": [
    "Finalmente, el punto de operación de un sistema de bombeo corresponde al caudal con el que se resuelve de manera simultánea la función de la bomba y la cabeza de pérdidas totales.\n",
    "\n",
    "Escriba una procemiento que permita encontrar el punto de operación de un sistema dados los parámetros de operación y las caracteríticas del sistema. Presento los valores y grafique las funciones de la manera más amigable posible."
   ]
  },
  {
   "cell_type": "markdown",
   "metadata": {},
   "source": []
  }
 ],
 "metadata": {
  "kernelspec": {
   "display_name": "compthinking",
   "language": "python",
   "name": "python3"
  },
  "language_info": {
   "name": "python",
   "version": "3.12.2"
  }
 },
 "nbformat": 4,
 "nbformat_minor": 2
}
