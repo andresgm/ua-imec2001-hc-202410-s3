{
 "cells": [
  {
   "cell_type": "markdown",
   "id": "79f5aa93-9caa-420e-81bd-1b02abbf8a08",
   "metadata": {},
   "source": [
    "# IMEC2001 Herramientas Computacionales \n",
    "## Clase 14 - Visualización 3D\n",
    "\n",
    "\n",
    "## TABLA DE CONTENIDO\n",
    "\n",
    "- 1.1. OpenSCAD: viewscad y SolidPython\n",
    "- 1.2. Mallas STL\n",
    "- 1.3. Archivos VTK y paraview\n",
    "\n",
    "En esta clase se exploran la visualización tridimensional en python. \n",
    "\n",
    "## 1.1  OpenSCAD: viewscad y SolidPython\n",
    "\n",
    "OpenSCAD es un software de modelado 3D de código abierto que se utiliza principalmente para crear modelos tridimensionales paramétricos. A diferencia de otras herramientas de modelado 3D que utilizan interfaces gráficas de usuario (GUI) para manipular objetos directamente, OpenSCAD utiliza un lenguaje de programación de scripts para describir los modelos en términos matemáticos y geométricos. \n",
    "\n",
    "Una vez que se ha escrito el script, OpenSCAD lo procesa y genera un modelo tridimensional que puede ser visualizado en su entorno de trabajo. Los usuarios pueden rotar, mover y hacer zoom en el modelo para revisarlo y realizar ajustes según sea necesario. Además, OpenSCAD permite exportar los modelos en formatos de archivo comunes como STL para su uso en impresoras 3D u otros programas de modelado 3D.\n",
    "\n",
    "OpenSCAD se puede descargar de https://openscad.org/downloads.html. Es un softare standalone, sin embargo existen extensiones relacionadas en python que aprovechan mejor el programa. Las veremos en esta sección."
   ]
  },
  {
   "cell_type": "code",
   "execution_count": 3,
   "id": "4863244e",
   "metadata": {},
   "outputs": [
    {
     "name": "stdout",
     "output_type": "stream",
     "text": [
      "Requirement already satisfied: viewscad in c:\\users\\jcl00\\pyenvs\\math\\lib\\site-packages (0.2.0)\n",
      "Requirement already satisfied: jupyter in c:\\users\\jcl00\\pyenvs\\math\\lib\\site-packages (from viewscad) (1.0.0)\n",
      "Requirement already satisfied: jupyterlab in c:\\users\\jcl00\\pyenvs\\math\\lib\\site-packages (from viewscad) (4.0.7)\n",
      "Requirement already satisfied: ipywidgets in c:\\users\\jcl00\\pyenvs\\math\\lib\\site-packages (from viewscad) (8.1.1)\n",
      "Requirement already satisfied: pythreejs in c:\\users\\jcl00\\pyenvs\\math\\lib\\site-packages (from viewscad) (2.4.2)\n",
      "Requirement already satisfied: solidpython in c:\\users\\jcl00\\pyenvs\\math\\lib\\site-packages (from viewscad) (1.1.3)\n",
      "Requirement already satisfied: comm>=0.1.3 in c:\\users\\jcl00\\pyenvs\\math\\lib\\site-packages (from ipywidgets->viewscad) (0.1.4)\n",
      "Requirement already satisfied: ipython>=6.1.0 in c:\\users\\jcl00\\pyenvs\\math\\lib\\site-packages (from ipywidgets->viewscad) (8.16.1)\n",
      "Requirement already satisfied: traitlets>=4.3.1 in c:\\users\\jcl00\\pyenvs\\math\\lib\\site-packages (from ipywidgets->viewscad) (5.11.2)\n",
      "Requirement already satisfied: widgetsnbextension~=4.0.9 in c:\\users\\jcl00\\pyenvs\\math\\lib\\site-packages (from ipywidgets->viewscad) (4.0.9)\n",
      "Requirement already satisfied: jupyterlab-widgets~=3.0.9 in c:\\users\\jcl00\\pyenvs\\math\\lib\\site-packages (from ipywidgets->viewscad) (3.0.9)\n",
      "Requirement already satisfied: notebook in c:\\users\\jcl00\\pyenvs\\math\\lib\\site-packages (from jupyter->viewscad) (7.0.6)\n",
      "Requirement already satisfied: qtconsole in c:\\users\\jcl00\\pyenvs\\math\\lib\\site-packages (from jupyter->viewscad) (5.4.4)\n",
      "Requirement already satisfied: jupyter-console in c:\\users\\jcl00\\pyenvs\\math\\lib\\site-packages (from jupyter->viewscad) (6.6.3)\n",
      "Requirement already satisfied: nbconvert in c:\\users\\jcl00\\pyenvs\\math\\lib\\site-packages (from jupyter->viewscad) (7.9.2)\n",
      "Requirement already satisfied: ipykernel in c:\\users\\jcl00\\pyenvs\\math\\lib\\site-packages (from jupyter->viewscad) (6.25.2)\n",
      "Requirement already satisfied: async-lru>=1.0.0 in c:\\users\\jcl00\\pyenvs\\math\\lib\\site-packages (from jupyterlab->viewscad) (2.0.4)\n",
      "Requirement already satisfied: jinja2>=3.0.3 in c:\\users\\jcl00\\pyenvs\\math\\lib\\site-packages (from jupyterlab->viewscad) (3.1.2)\n",
      "Requirement already satisfied: jupyter-core in c:\\users\\jcl00\\pyenvs\\math\\lib\\site-packages (from jupyterlab->viewscad) (5.4.0)\n",
      "Requirement already satisfied: jupyter-lsp>=2.0.0 in c:\\users\\jcl00\\pyenvs\\math\\lib\\site-packages (from jupyterlab->viewscad) (2.2.0)\n",
      "Requirement already satisfied: jupyter-server<3,>=2.4.0 in c:\\users\\jcl00\\pyenvs\\math\\lib\\site-packages (from jupyterlab->viewscad) (2.8.0)\n",
      "Requirement already satisfied: jupyterlab-server<3,>=2.19.0 in c:\\users\\jcl00\\pyenvs\\math\\lib\\site-packages (from jupyterlab->viewscad) (2.25.0)\n",
      "Requirement already satisfied: notebook-shim>=0.2 in c:\\users\\jcl00\\pyenvs\\math\\lib\\site-packages (from jupyterlab->viewscad) (0.2.3)\n",
      "Requirement already satisfied: packaging in c:\\users\\jcl00\\pyenvs\\math\\lib\\site-packages (from jupyterlab->viewscad) (23.2)\n",
      "Requirement already satisfied: tornado>=6.2.0 in c:\\users\\jcl00\\pyenvs\\math\\lib\\site-packages (from jupyterlab->viewscad) (6.3.3)\n",
      "Requirement already satisfied: ipydatawidgets>=1.1.1 in c:\\users\\jcl00\\pyenvs\\math\\lib\\site-packages (from pythreejs->viewscad) (4.3.5)\n",
      "Requirement already satisfied: numpy in c:\\users\\jcl00\\pyenvs\\math\\lib\\site-packages (from pythreejs->viewscad) (1.26.1)\n",
      "Requirement already satisfied: PrettyTable==0.7.2 in c:\\users\\jcl00\\pyenvs\\math\\lib\\site-packages (from solidpython->viewscad) (0.7.2)\n",
      "Requirement already satisfied: euclid3<0.2.0,>=0.1.0 in c:\\users\\jcl00\\pyenvs\\math\\lib\\site-packages (from solidpython->viewscad) (0.1)\n",
      "Requirement already satisfied: ply<4.0,>=3.11 in c:\\users\\jcl00\\pyenvs\\math\\lib\\site-packages (from solidpython->viewscad) (3.11)\n",
      "Requirement already satisfied: pypng<0.0.20,>=0.0.19 in c:\\users\\jcl00\\pyenvs\\math\\lib\\site-packages (from solidpython->viewscad) (0.0.19)\n",
      "Requirement already satisfied: traittypes>=0.2.0 in c:\\users\\jcl00\\pyenvs\\math\\lib\\site-packages (from ipydatawidgets>=1.1.1->pythreejs->viewscad) (0.2.1)\n",
      "Requirement already satisfied: backcall in c:\\users\\jcl00\\pyenvs\\math\\lib\\site-packages (from ipython>=6.1.0->ipywidgets->viewscad) (0.2.0)\n",
      "Requirement already satisfied: decorator in c:\\users\\jcl00\\pyenvs\\math\\lib\\site-packages (from ipython>=6.1.0->ipywidgets->viewscad) (5.1.1)\n",
      "Requirement already satisfied: jedi>=0.16 in c:\\users\\jcl00\\pyenvs\\math\\lib\\site-packages (from ipython>=6.1.0->ipywidgets->viewscad) (0.19.1)\n",
      "Requirement already satisfied: matplotlib-inline in c:\\users\\jcl00\\pyenvs\\math\\lib\\site-packages (from ipython>=6.1.0->ipywidgets->viewscad) (0.1.6)\n",
      "Requirement already satisfied: pickleshare in c:\\users\\jcl00\\pyenvs\\math\\lib\\site-packages (from ipython>=6.1.0->ipywidgets->viewscad) (0.7.5)\n",
      "Requirement already satisfied: prompt-toolkit!=3.0.37,<3.1.0,>=3.0.30 in c:\\users\\jcl00\\pyenvs\\math\\lib\\site-packages (from ipython>=6.1.0->ipywidgets->viewscad) (3.0.39)\n",
      "Requirement already satisfied: pygments>=2.4.0 in c:\\users\\jcl00\\pyenvs\\math\\lib\\site-packages (from ipython>=6.1.0->ipywidgets->viewscad) (2.16.1)\n",
      "Requirement already satisfied: stack-data in c:\\users\\jcl00\\pyenvs\\math\\lib\\site-packages (from ipython>=6.1.0->ipywidgets->viewscad) (0.6.3)\n",
      "Requirement already satisfied: colorama in c:\\users\\jcl00\\pyenvs\\math\\lib\\site-packages (from ipython>=6.1.0->ipywidgets->viewscad) (0.4.6)\n",
      "Requirement already satisfied: MarkupSafe>=2.0 in c:\\users\\jcl00\\pyenvs\\math\\lib\\site-packages (from jinja2>=3.0.3->jupyterlab->viewscad) (2.1.3)\n",
      "Requirement already satisfied: anyio>=3.1.0 in c:\\users\\jcl00\\pyenvs\\math\\lib\\site-packages (from jupyter-server<3,>=2.4.0->jupyterlab->viewscad) (4.0.0)\n",
      "Requirement already satisfied: argon2-cffi in c:\\users\\jcl00\\pyenvs\\math\\lib\\site-packages (from jupyter-server<3,>=2.4.0->jupyterlab->viewscad) (23.1.0)\n",
      "Requirement already satisfied: jupyter-client>=7.4.4 in c:\\users\\jcl00\\pyenvs\\math\\lib\\site-packages (from jupyter-server<3,>=2.4.0->jupyterlab->viewscad) (8.4.0)\n",
      "Requirement already satisfied: jupyter-events>=0.6.0 in c:\\users\\jcl00\\pyenvs\\math\\lib\\site-packages (from jupyter-server<3,>=2.4.0->jupyterlab->viewscad) (0.8.0)\n",
      "Requirement already satisfied: jupyter-server-terminals in c:\\users\\jcl00\\pyenvs\\math\\lib\\site-packages (from jupyter-server<3,>=2.4.0->jupyterlab->viewscad) (0.4.4)\n",
      "Requirement already satisfied: nbformat>=5.3.0 in c:\\users\\jcl00\\pyenvs\\math\\lib\\site-packages (from jupyter-server<3,>=2.4.0->jupyterlab->viewscad) (5.9.2)\n",
      "Requirement already satisfied: overrides in c:\\users\\jcl00\\pyenvs\\math\\lib\\site-packages (from jupyter-server<3,>=2.4.0->jupyterlab->viewscad) (7.4.0)\n",
      "Requirement already satisfied: prometheus-client in c:\\users\\jcl00\\pyenvs\\math\\lib\\site-packages (from jupyter-server<3,>=2.4.0->jupyterlab->viewscad) (0.17.1)\n",
      "Requirement already satisfied: pywinpty in c:\\users\\jcl00\\pyenvs\\math\\lib\\site-packages (from jupyter-server<3,>=2.4.0->jupyterlab->viewscad) (2.0.12)\n",
      "Requirement already satisfied: pyzmq>=24 in c:\\users\\jcl00\\pyenvs\\math\\lib\\site-packages (from jupyter-server<3,>=2.4.0->jupyterlab->viewscad) (25.1.1)\n",
      "Requirement already satisfied: send2trash>=1.8.2 in c:\\users\\jcl00\\pyenvs\\math\\lib\\site-packages (from jupyter-server<3,>=2.4.0->jupyterlab->viewscad) (1.8.2)\n",
      "Requirement already satisfied: terminado>=0.8.3 in c:\\users\\jcl00\\pyenvs\\math\\lib\\site-packages (from jupyter-server<3,>=2.4.0->jupyterlab->viewscad) (0.17.1)\n",
      "Requirement already satisfied: websocket-client in c:\\users\\jcl00\\pyenvs\\math\\lib\\site-packages (from jupyter-server<3,>=2.4.0->jupyterlab->viewscad) (1.6.4)\n",
      "Requirement already satisfied: platformdirs>=2.5 in c:\\users\\jcl00\\pyenvs\\math\\lib\\site-packages (from jupyter-core->jupyterlab->viewscad) (3.11.0)\n",
      "Requirement already satisfied: pywin32>=300 in c:\\users\\jcl00\\pyenvs\\math\\lib\\site-packages (from jupyter-core->jupyterlab->viewscad) (306)\n",
      "Requirement already satisfied: babel>=2.10 in c:\\users\\jcl00\\pyenvs\\math\\lib\\site-packages (from jupyterlab-server<3,>=2.19.0->jupyterlab->viewscad) (2.13.0)\n",
      "Requirement already satisfied: json5>=0.9.0 in c:\\users\\jcl00\\pyenvs\\math\\lib\\site-packages (from jupyterlab-server<3,>=2.19.0->jupyterlab->viewscad) (0.9.14)\n",
      "Requirement already satisfied: jsonschema>=4.18.0 in c:\\users\\jcl00\\pyenvs\\math\\lib\\site-packages (from jupyterlab-server<3,>=2.19.0->jupyterlab->viewscad) (4.19.1)\n",
      "Requirement already satisfied: requests>=2.31 in c:\\users\\jcl00\\pyenvs\\math\\lib\\site-packages (from jupyterlab-server<3,>=2.19.0->jupyterlab->viewscad) (2.31.0)\n",
      "Requirement already satisfied: beautifulsoup4 in c:\\users\\jcl00\\pyenvs\\math\\lib\\site-packages (from nbconvert->jupyter->viewscad) (4.12.2)\n",
      "Requirement already satisfied: bleach!=5.0.0 in c:\\users\\jcl00\\pyenvs\\math\\lib\\site-packages (from nbconvert->jupyter->viewscad) (6.1.0)\n",
      "Requirement already satisfied: defusedxml in c:\\users\\jcl00\\pyenvs\\math\\lib\\site-packages (from nbconvert->jupyter->viewscad) (0.7.1)\n",
      "Requirement already satisfied: jupyterlab-pygments in c:\\users\\jcl00\\pyenvs\\math\\lib\\site-packages (from nbconvert->jupyter->viewscad) (0.2.2)\n",
      "Requirement already satisfied: mistune<4,>=2.0.3 in c:\\users\\jcl00\\pyenvs\\math\\lib\\site-packages (from nbconvert->jupyter->viewscad) (3.0.2)\n",
      "Requirement already satisfied: nbclient>=0.5.0 in c:\\users\\jcl00\\pyenvs\\math\\lib\\site-packages (from nbconvert->jupyter->viewscad) (0.8.0)\n",
      "Requirement already satisfied: pandocfilters>=1.4.1 in c:\\users\\jcl00\\pyenvs\\math\\lib\\site-packages (from nbconvert->jupyter->viewscad) (1.5.0)\n",
      "Requirement already satisfied: tinycss2 in c:\\users\\jcl00\\pyenvs\\math\\lib\\site-packages (from nbconvert->jupyter->viewscad) (1.2.1)\n",
      "Requirement already satisfied: debugpy>=1.6.5 in c:\\users\\jcl00\\pyenvs\\math\\lib\\site-packages (from ipykernel->jupyter->viewscad) (1.8.0)\n",
      "Requirement already satisfied: nest-asyncio in c:\\users\\jcl00\\pyenvs\\math\\lib\\site-packages (from ipykernel->jupyter->viewscad) (1.5.8)\n",
      "Requirement already satisfied: psutil in c:\\users\\jcl00\\pyenvs\\math\\lib\\site-packages (from ipykernel->jupyter->viewscad) (5.9.6)\n",
      "Requirement already satisfied: ipython-genutils in c:\\users\\jcl00\\pyenvs\\math\\lib\\site-packages (from qtconsole->jupyter->viewscad) (0.2.0)\n",
      "Requirement already satisfied: qtpy>=2.4.0 in c:\\users\\jcl00\\pyenvs\\math\\lib\\site-packages (from qtconsole->jupyter->viewscad) (2.4.0)\n",
      "Requirement already satisfied: idna>=2.8 in c:\\users\\jcl00\\pyenvs\\math\\lib\\site-packages (from anyio>=3.1.0->jupyter-server<3,>=2.4.0->jupyterlab->viewscad) (3.4)\n",
      "Requirement already satisfied: sniffio>=1.1 in c:\\users\\jcl00\\pyenvs\\math\\lib\\site-packages (from anyio>=3.1.0->jupyter-server<3,>=2.4.0->jupyterlab->viewscad) (1.3.0)\n",
      "Requirement already satisfied: six>=1.9.0 in c:\\users\\jcl00\\pyenvs\\math\\lib\\site-packages (from bleach!=5.0.0->nbconvert->jupyter->viewscad) (1.16.0)\n",
      "Requirement already satisfied: webencodings in c:\\users\\jcl00\\pyenvs\\math\\lib\\site-packages (from bleach!=5.0.0->nbconvert->jupyter->viewscad) (0.5.1)\n",
      "Requirement already satisfied: parso<0.9.0,>=0.8.3 in c:\\users\\jcl00\\pyenvs\\math\\lib\\site-packages (from jedi>=0.16->ipython>=6.1.0->ipywidgets->viewscad) (0.8.3)\n",
      "Requirement already satisfied: attrs>=22.2.0 in c:\\users\\jcl00\\pyenvs\\math\\lib\\site-packages (from jsonschema>=4.18.0->jupyterlab-server<3,>=2.19.0->jupyterlab->viewscad) (23.1.0)\n",
      "Requirement already satisfied: jsonschema-specifications>=2023.03.6 in c:\\users\\jcl00\\pyenvs\\math\\lib\\site-packages (from jsonschema>=4.18.0->jupyterlab-server<3,>=2.19.0->jupyterlab->viewscad) (2023.7.1)\n",
      "Requirement already satisfied: referencing>=0.28.4 in c:\\users\\jcl00\\pyenvs\\math\\lib\\site-packages (from jsonschema>=4.18.0->jupyterlab-server<3,>=2.19.0->jupyterlab->viewscad) (0.30.2)\n",
      "Requirement already satisfied: rpds-py>=0.7.1 in c:\\users\\jcl00\\pyenvs\\math\\lib\\site-packages (from jsonschema>=4.18.0->jupyterlab-server<3,>=2.19.0->jupyterlab->viewscad) (0.10.6)\n",
      "Requirement already satisfied: python-dateutil>=2.8.2 in c:\\users\\jcl00\\pyenvs\\math\\lib\\site-packages (from jupyter-client>=7.4.4->jupyter-server<3,>=2.4.0->jupyterlab->viewscad) (2.8.2)\n",
      "Requirement already satisfied: python-json-logger>=2.0.4 in c:\\users\\jcl00\\pyenvs\\math\\lib\\site-packages (from jupyter-events>=0.6.0->jupyter-server<3,>=2.4.0->jupyterlab->viewscad) (2.0.7)\n",
      "Requirement already satisfied: pyyaml>=5.3 in c:\\users\\jcl00\\pyenvs\\math\\lib\\site-packages (from jupyter-events>=0.6.0->jupyter-server<3,>=2.4.0->jupyterlab->viewscad) (6.0.1)\n",
      "Requirement already satisfied: rfc3339-validator in c:\\users\\jcl00\\pyenvs\\math\\lib\\site-packages (from jupyter-events>=0.6.0->jupyter-server<3,>=2.4.0->jupyterlab->viewscad) (0.1.4)\n",
      "Requirement already satisfied: rfc3986-validator>=0.1.1 in c:\\users\\jcl00\\pyenvs\\math\\lib\\site-packages (from jupyter-events>=0.6.0->jupyter-server<3,>=2.4.0->jupyterlab->viewscad) (0.1.1)\n",
      "Requirement already satisfied: fastjsonschema in c:\\users\\jcl00\\pyenvs\\math\\lib\\site-packages (from nbformat>=5.3.0->jupyter-server<3,>=2.4.0->jupyterlab->viewscad) (2.18.1)\n",
      "Requirement already satisfied: wcwidth in c:\\users\\jcl00\\pyenvs\\math\\lib\\site-packages (from prompt-toolkit!=3.0.37,<3.1.0,>=3.0.30->ipython>=6.1.0->ipywidgets->viewscad) (0.2.8)\n",
      "Requirement already satisfied: charset-normalizer<4,>=2 in c:\\users\\jcl00\\pyenvs\\math\\lib\\site-packages (from requests>=2.31->jupyterlab-server<3,>=2.19.0->jupyterlab->viewscad) (3.3.1)\n",
      "Requirement already satisfied: urllib3<3,>=1.21.1 in c:\\users\\jcl00\\pyenvs\\math\\lib\\site-packages (from requests>=2.31->jupyterlab-server<3,>=2.19.0->jupyterlab->viewscad) (2.0.7)\n",
      "Requirement already satisfied: certifi>=2017.4.17 in c:\\users\\jcl00\\pyenvs\\math\\lib\\site-packages (from requests>=2.31->jupyterlab-server<3,>=2.19.0->jupyterlab->viewscad) (2023.7.22)\n",
      "Requirement already satisfied: argon2-cffi-bindings in c:\\users\\jcl00\\pyenvs\\math\\lib\\site-packages (from argon2-cffi->jupyter-server<3,>=2.4.0->jupyterlab->viewscad) (21.2.0)\n",
      "Requirement already satisfied: soupsieve>1.2 in c:\\users\\jcl00\\pyenvs\\math\\lib\\site-packages (from beautifulsoup4->nbconvert->jupyter->viewscad) (2.5)\n",
      "Requirement already satisfied: executing>=1.2.0 in c:\\users\\jcl00\\pyenvs\\math\\lib\\site-packages (from stack-data->ipython>=6.1.0->ipywidgets->viewscad) (2.0.0)\n",
      "Requirement already satisfied: asttokens>=2.1.0 in c:\\users\\jcl00\\pyenvs\\math\\lib\\site-packages (from stack-data->ipython>=6.1.0->ipywidgets->viewscad) (2.4.0)\n",
      "Requirement already satisfied: pure-eval in c:\\users\\jcl00\\pyenvs\\math\\lib\\site-packages (from stack-data->ipython>=6.1.0->ipywidgets->viewscad) (0.2.2)\n",
      "Requirement already satisfied: fqdn in c:\\users\\jcl00\\pyenvs\\math\\lib\\site-packages (from jsonschema>=4.18.0->jupyterlab-server<3,>=2.19.0->jupyterlab->viewscad) (1.5.1)\n",
      "Requirement already satisfied: isoduration in c:\\users\\jcl00\\pyenvs\\math\\lib\\site-packages (from jsonschema>=4.18.0->jupyterlab-server<3,>=2.19.0->jupyterlab->viewscad) (20.11.0)\n",
      "Requirement already satisfied: jsonpointer>1.13 in c:\\users\\jcl00\\pyenvs\\math\\lib\\site-packages (from jsonschema>=4.18.0->jupyterlab-server<3,>=2.19.0->jupyterlab->viewscad) (2.4)\n",
      "Requirement already satisfied: uri-template in c:\\users\\jcl00\\pyenvs\\math\\lib\\site-packages (from jsonschema>=4.18.0->jupyterlab-server<3,>=2.19.0->jupyterlab->viewscad) (1.3.0)\n",
      "Requirement already satisfied: webcolors>=1.11 in c:\\users\\jcl00\\pyenvs\\math\\lib\\site-packages (from jsonschema>=4.18.0->jupyterlab-server<3,>=2.19.0->jupyterlab->viewscad) (1.13)\n",
      "Requirement already satisfied: cffi>=1.0.1 in c:\\users\\jcl00\\pyenvs\\math\\lib\\site-packages (from argon2-cffi-bindings->argon2-cffi->jupyter-server<3,>=2.4.0->jupyterlab->viewscad) (1.16.0)\n",
      "Requirement already satisfied: pycparser in c:\\users\\jcl00\\pyenvs\\math\\lib\\site-packages (from cffi>=1.0.1->argon2-cffi-bindings->argon2-cffi->jupyter-server<3,>=2.4.0->jupyterlab->viewscad) (2.21)\n",
      "Requirement already satisfied: arrow>=0.15.0 in c:\\users\\jcl00\\pyenvs\\math\\lib\\site-packages (from isoduration->jsonschema>=4.18.0->jupyterlab-server<3,>=2.19.0->jupyterlab->viewscad) (1.3.0)\n",
      "Requirement already satisfied: types-python-dateutil>=2.8.10 in c:\\users\\jcl00\\pyenvs\\math\\lib\\site-packages (from arrow>=0.15.0->isoduration->jsonschema>=4.18.0->jupyterlab-server<3,>=2.19.0->jupyterlab->viewscad) (2.8.19.14)\n"
     ]
    },
    {
     "name": "stderr",
     "output_type": "stream",
     "text": [
      "\n",
      "[notice] A new release of pip is available: 23.2.1 -> 24.0\n",
      "[notice] To update, run: python.exe -m pip install --upgrade pip\n"
     ]
    },
    {
     "name": "stdout",
     "output_type": "stream",
     "text": [
      "Requirement already satisfied: solidpython in c:\\users\\jcl00\\pyenvs\\math\\lib\\site-packages (1.1.3)\n",
      "Requirement already satisfied: PrettyTable==0.7.2 in c:\\users\\jcl00\\pyenvs\\math\\lib\\site-packages (from solidpython) (0.7.2)\n",
      "Requirement already satisfied: euclid3<0.2.0,>=0.1.0 in c:\\users\\jcl00\\pyenvs\\math\\lib\\site-packages (from solidpython) (0.1)\n",
      "Requirement already satisfied: ply<4.0,>=3.11 in c:\\users\\jcl00\\pyenvs\\math\\lib\\site-packages (from solidpython) (3.11)\n",
      "Requirement already satisfied: pypng<0.0.20,>=0.0.19 in c:\\users\\jcl00\\pyenvs\\math\\lib\\site-packages (from solidpython) (0.0.19)\n"
     ]
    },
    {
     "name": "stderr",
     "output_type": "stream",
     "text": [
      "\n",
      "[notice] A new release of pip is available: 23.2.1 -> 24.0\n",
      "[notice] To update, run: python.exe -m pip install --upgrade pip\n",
      "\n",
      "Usage:   \n",
      "  pip install [options] <requirement specifier> [package-index-options] ...\n",
      "  pip install [options] -r <requirements file> [package-index-options] ...\n",
      "  pip install [options] [-e] <vcs project url> ...\n",
      "  pip install [options] [-e] <local project path> ...\n",
      "  pip install [options] <archive url/path> ...\n",
      "\n",
      "no such option: --update\n"
     ]
    },
    {
     "name": "stdout",
     "output_type": "stream",
     "text": [
      "Requirement already satisfied: numpy-stl in c:\\users\\jcl00\\pyenvs\\math\\lib\\site-packages (3.1.1)\n",
      "Requirement already satisfied: numpy in c:\\users\\jcl00\\pyenvs\\math\\lib\\site-packages (from numpy-stl) (1.26.1)\n",
      "Requirement already satisfied: python-utils>=3.4.5 in c:\\users\\jcl00\\pyenvs\\math\\lib\\site-packages (from numpy-stl) (3.8.2)\n",
      "Requirement already satisfied: typing-extensions>3.10.0.2 in c:\\users\\jcl00\\pyenvs\\math\\lib\\site-packages (from python-utils>=3.4.5->numpy-stl) (4.10.0)\n"
     ]
    },
    {
     "name": "stderr",
     "output_type": "stream",
     "text": [
      "\n",
      "[notice] A new release of pip is available: 23.2.1 -> 24.0\n",
      "[notice] To update, run: python.exe -m pip install --upgrade pip\n"
     ]
    }
   ],
   "source": [
    "!pip install viewscad\n",
    "!pip install solidpython\n",
    "!pip install ipywidgets --update\n",
    "!pip install numpy-stl"
   ]
  },
  {
   "cell_type": "code",
   "execution_count": 9,
   "id": "fecd3ca9",
   "metadata": {},
   "outputs": [
    {
     "data": {
      "application/vnd.jupyter.widget-view+json": {
       "model_id": "e0233b45442d453891d14a1619d12174",
       "version_major": 2,
       "version_minor": 0
      },
      "text/plain": [
       "VBox(children=(HTML(value=''), Renderer(background='#cccc88', background_opacity=0.0, camera=PerspectiveCamera…"
      ]
     },
     "metadata": {},
     "output_type": "display_data"
    }
   ],
   "source": [
    "from solid import cylinder, translate,scad_render\n",
    "import viewscad\n",
    "c = cylinder(r=10, h=5) + cylinder(r=2, h=30)\n",
    "renderer=viewscad.Renderer()\n",
    "renderer.render(c)"
   ]
  },
  {
   "cell_type": "code",
   "execution_count": 11,
   "id": "24702231-aeb4-4b12-9d1b-37466e9b586d",
   "metadata": {},
   "outputs": [
    {
     "name": "stdout",
     "output_type": "stream",
     "text": [
      "\n",
      "\n",
      "union() {\n",
      "\tcylinder(h = 5, r = 10);\n",
      "\tcylinder(h = 30, r = 2);\n",
      "}\n"
     ]
    }
   ],
   "source": [
    "print(scad_render(c))"
   ]
  },
  {
   "cell_type": "code",
   "execution_count": 12,
   "id": "1c580a4b",
   "metadata": {},
   "outputs": [
    {
     "data": {
      "application/vnd.jupyter.widget-view+json": {
       "model_id": "d70f4b21a477471dab89cd9d678494b7",
       "version_major": 2,
       "version_minor": 0
      },
      "text/plain": [
       "VBox(children=(HTML(value=''), Renderer(background='#cccc88', background_opacity=0.0, camera=PerspectiveCamera…"
      ]
     },
     "metadata": {},
     "output_type": "display_data"
    }
   ],
   "source": [
    "c = cylinder(r=10, h=5) - translate([1,5,0])(cylinder(r=2, h=30))\n",
    "renderer.render(c)"
   ]
  },
  {
   "attachments": {
    "a88893bf-b283-4929-a42f-a48525470c95.png": {
     "image/png": "[encoded data removed]"
    }
   },
   "cell_type": "markdown",
   "id": "02ae9217-eef8-4864-b9e7-9eaf6ebc6ed9",
   "metadata": {},
   "source": [
    "## 1.2. Archivos STL\n",
    "\n",
    "La geometría tridimensional puede ser discretizada para almacenar formas digitalmente. \n",
    "\n",
    "El formato STL (de sus siglas en inglés, *Stereolithography*) es un tipo de archivo utilizado principalmente para la impresión 3D. Este formato describe únicamente la superficie geométrica de un objeto tridimensional sin ninguna representación de color, textura o cualquier otro atributo común en modelos más complejos. La simplicidad del formato STL lo ha hecho muy popular en el campo de la fabricación aditiva y el modelado 3D.\n",
    "\n",
    "### Estructura Básica\n",
    "\n",
    "Un archivo STL puede estar en dos formatos: ASCII (texto plano) o binario. Ambos formatos describen las superficies del objeto mediante una serie de triángulos.\n",
    "\n",
    "![Untitled.png](attachment:a88893bf-b283-4929-a42f-a48525470c95.png)\n",
    "\n",
    "#### Formato ASCII\n",
    "\n",
    "En el formato ASCII, un archivo STL se ve algo así:\n",
    "\n",
    "```plaintext\n",
    "solid nombre_del_objeto\n",
    "    facet normal ni nj nk\n",
    "        outer loop\n",
    "            vertex v1x v1y v1z\n",
    "            vertex v2x v2y v2z\n",
    "            vertex v3x v3y v3z\n",
    "        endloop\n",
    "    endfacet\n",
    "    ...\n",
    "endsolid nombre_del_objeto\n",
    "```\n",
    "\n",
    "- `nombre_del_objeto` es opcional y no siempre se utiliza.\n",
    "- Cada `facet` representa un triángulo definido por tres vértices (`vertex`).\n",
    "- La `normal ni nj nk` define la orientación del triángulo en el espacio tridimensional, donde `(ni, nj, nk)` son las componentes x, y y z del vector normal al plano del triángulo.\n",
    "\n",
    "\n",
    "Desde viewscad puede exportar archivos stl así:"
   ]
  },
  {
   "cell_type": "code",
   "execution_count": null,
   "id": "f6e6f4ab",
   "metadata": {},
   "outputs": [],
   "source": [
    "c = cylinder(r=10, h=5) - translate([1,1,0])(cylinder(r=2, h=30))\n",
    "renderer.render(c, outfile='mi_objeto.stl')"
   ]
  },
  {
   "cell_type": "code",
   "execution_count": null,
   "id": "7732d166-0eaf-4eac-aec4-0e130c989e3d",
   "metadata": {},
   "outputs": [],
   "source": [
    "#Puede cargar un archivo stl en numpy usando la librería stl"
   ]
  },
  {
   "cell_type": "code",
   "execution_count": null,
   "id": "84712022",
   "metadata": {},
   "outputs": [],
   "source": [
    "from stl import mesh  \n",
    "modelo = mesh.Mesh.from_file('mi_objeto.stl')\n"
   ]
  },
  {
   "cell_type": "code",
   "execution_count": null,
   "id": "a29fb561-0cab-467c-851d-9ceccc588a0c",
   "metadata": {},
   "outputs": [],
   "source": [
    "#Observe el contenido\n",
    "modelo.vectors"
   ]
  },
  {
   "cell_type": "markdown",
   "id": "e5423f5b-b680-4d2a-bdcf-dbc3625a715e",
   "metadata": {},
   "source": [
    "Finalmente puede graficar usando herramientas de matplotlib"
   ]
  },
  {
   "cell_type": "code",
   "execution_count": null,
   "id": "dc3833bd",
   "metadata": {},
   "outputs": [],
   "source": [
    "import matplotlib.pyplot as plt\n",
    "from mpl_toolkits import mplot3d\n",
    "figura = plt.figure()\n",
    "ax = figura.add_subplot(111, projection='3d')\n",
    "ax.add_collection3d(mplot3d.art3d.Poly3DCollection(modelo.vectors))\n",
    "ax.set_xlim(-10,10)\n",
    "ax.set_ylim(-10,10)\n",
    "ax.set_zlim(-10,10)"
   ]
  }
 ],
 "metadata": {
  "kernelspec": {
   "display_name": "Python 3 (ipykernel)",
   "language": "python",
   "name": "python3"
  },
  "language_info": {
   "codemirror_mode": {
    "name": "ipython",
    "version": 3
   },
   "file_extension": ".py",
   "mimetype": "text/x-python",
   "name": "python",
   "nbconvert_exporter": "python",
   "pygments_lexer": "ipython3",
   "version": "3.11.2"
  }
 },
 "nbformat": 4,
 "nbformat_minor": 5
}
