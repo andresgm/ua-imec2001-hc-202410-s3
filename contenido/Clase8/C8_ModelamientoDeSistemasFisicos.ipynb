{
 "cells": [
  {
   "cell_type": "markdown",
   "metadata": {},
   "source": [
    "# IMEC2001 Herramientas Computacionales \n",
    "## Clase 8 - Modelamiento de sistemas físicos\n",
    "\n",
    "\n",
    "---\n",
    "Sympy es una biblioteca de Python que permite realizar cálculos simbólicos, lo que la convierte en una herramienta muy útil para modelar sistemas físicos. En este guía, observará cómo utilizar Sympy para modelar sistemas físicos \n",
    "\n",
    "\n",
    "## TABLA DE CONTENIDO\n",
    "\n",
    "- 1.1. Cargar Librerías\n",
    "- 1.2. Definir ecuaciones\n",
    "- 1.3. Definir ecuaciones de sistemas dinámicos"
   ]
  },
  {
   "cell_type": "code",
   "execution_count": 1,
   "metadata": {},
   "outputs": [
    {
     "name": "stdout",
     "output_type": "stream",
     "text": [
      "Requirement already satisfied: sympy in c:\\users\\jcl00\\pyenvs\\math\\lib\\site-packages (1.12)\n",
      "Requirement already satisfied: mpmath>=0.19 in c:\\users\\jcl00\\pyenvs\\math\\lib\\site-packages (from sympy) (1.3.0)\n"
     ]
    },
    {
     "name": "stderr",
     "output_type": "stream",
     "text": [
      "\n",
      "[notice] A new release of pip is available: 23.3.1 -> 24.0\n",
      "[notice] To update, run: python.exe -m pip install --upgrade pip\n"
     ]
    }
   ],
   "source": [
    "!pip install sympy"
   ]
  },
  {
   "cell_type": "markdown",
   "metadata": {},
   "source": [
    "## 1.1. Cargar Librerías"
   ]
  },
  {
   "cell_type": "code",
   "execution_count": 2,
   "metadata": {},
   "outputs": [],
   "source": [
    "import sympy\n",
    "from sympy import symbols"
   ]
  },
  {
   "cell_type": "markdown",
   "metadata": {},
   "source": [
    "## 1.2. Definir ecuaciones\n",
    "\n",
    "Una vez que hemos definido nuestras variables simbólicas, podemos definir las ecuaciones que describen nuestro sistema físico. Por ejemplo, si queremos modelar un sistema masa-resorte con una masa m y una constante de resorte k, podemos definir la ecuación de la ley de Hooke de la siguiente manera:\n",
    "\n"
   ]
  },
  {
   "cell_type": "code",
   "execution_count": 3,
   "metadata": {},
   "outputs": [
    {
     "data": {
      "text/latex": [
       "$\\displaystyle - k x$"
      ],
      "text/plain": [
       "-k*x"
      ]
     },
     "execution_count": 3,
     "metadata": {},
     "output_type": "execute_result"
    }
   ],
   "source": [
    "[k,x]=sympy.symbols('k,x')\n",
    "F = -k * x\n",
    "F"
   ]
  },
  {
   "cell_type": "markdown",
   "metadata": {},
   "source": [
    "## 1.3. Definir ecuaciones de sistemas dinámicos\n",
    "\n",
    "En la celda anterior definimos la variable x como un símbolo que representa una deformación o posición del resorte. La ecuación ``` F = k*x```, se utilizaría al evaluar un balance de fuerzas a través de la segunda ley de Newton donde la sumatoria de fuerzas produce un cambio de momentum lineal (masa*aceleración).\n",
    "\n",
    "Observe que la velocidad corresponde a la derivada de la posición y la aceleración corresponde a la segunda derivada de la posición.\n",
    "\n",
    "$v=\\frac{dx}{dt}$\n",
    "\n",
    "$a=\\frac{d^2x}{dt^2}$\n",
    "\n",
    "Es decir, x es una función del tiempo. Definamos entonces x como una Función."
   ]
  },
  {
   "cell_type": "code",
   "execution_count": 4,
   "metadata": {},
   "outputs": [
    {
     "data": {
      "text/latex": [
       "$\\displaystyle x{\\left(t \\right)}$"
      ],
      "text/plain": [
       "x(t)"
      ]
     },
     "execution_count": 4,
     "metadata": {},
     "output_type": "execute_result"
    }
   ],
   "source": [
    "x=sympy.Function('x')\n",
    "t=sympy.symbols('t')\n",
    "x(t)"
   ]
  },
  {
   "cell_type": "markdown",
   "metadata": {},
   "source": [
    "Ahora podemos redefinir F para que sea una expresión dinámica."
   ]
  },
  {
   "cell_type": "code",
   "execution_count": 5,
   "metadata": {},
   "outputs": [
    {
     "data": {
      "text/latex": [
       "$\\displaystyle - k x{\\left(t \\right)}$"
      ],
      "text/plain": [
       "-k*x(t)"
      ]
     },
     "execution_count": 5,
     "metadata": {},
     "output_type": "execute_result"
    }
   ],
   "source": [
    "F = -k * x(t)\n",
    "F"
   ]
  },
  {
   "cell_type": "markdown",
   "metadata": {},
   "source": [
    "Extendamos con más variables y encontremos las ecuaciones de movimiento a partir de un balance de fuerzas."
   ]
  },
  {
   "cell_type": "code",
   "execution_count": 6,
   "metadata": {},
   "outputs": [
    {
     "data": {
      "text/latex": [
       "$\\displaystyle - k x{\\left(t \\right)} - m \\frac{d^{2}}{d t^{2}} x{\\left(t \\right)}$"
      ],
      "text/plain": [
       "-k*x(t) - m*Derivative(x(t), (t, 2))"
      ]
     },
     "execution_count": 6,
     "metadata": {},
     "output_type": "execute_result"
    }
   ],
   "source": [
    "[k,m]=sympy.symbols('k,m')\n",
    "x=sympy.Function('x')\n",
    "\n",
    "F = -k * x(t)\n",
    "eom=F-m*x(t).diff(t,t)\n",
    "eom"
   ]
  },
  {
   "cell_type": "markdown",
   "metadata": {},
   "source": [
    "Es muy fácil extender con otras fuerzas de interacción. Por ejemplo, agregando una fuerza disipativa viscosa."
   ]
  },
  {
   "cell_type": "code",
   "execution_count": 7,
   "metadata": {},
   "outputs": [
    {
     "data": {
      "text/latex": [
       "$\\displaystyle - c \\frac{d}{d t} x{\\left(t \\right)} - k x{\\left(t \\right)} - m \\frac{d^{2}}{d t^{2}} x{\\left(t \\right)}$"
      ],
      "text/plain": [
       "-c*Derivative(x(t), t) - k*x(t) - m*Derivative(x(t), (t, 2))"
      ]
     },
     "execution_count": 7,
     "metadata": {},
     "output_type": "execute_result"
    }
   ],
   "source": [
    "[k,m,c]=sympy.symbols('k,m,c')\n",
    "x=sympy.Function('x')\n",
    "\n",
    "F_resorte = -k * x(t)\n",
    "F_amortiguador= -c * x(t).diff(t)\n",
    "sumFuerzas=F_resorte+F_amortiguador\n",
    "eom=sumFuerzas-m*x(t).diff(t,t)\n",
    "eom"
   ]
  },
  {
   "cell_type": "markdown",
   "metadata": {},
   "source": [
    "## 1.4. Expresar ecuaciones en espacio de estados"
   ]
  },
  {
   "cell_type": "code",
   "execution_count": 8,
   "metadata": {},
   "outputs": [],
   "source": [
    "x1=sympy.Function('x1')\n",
    "x2=sympy.Function('x2')\n",
    "\n",
    "#Reemplazamos derivadas por variables de estado\n",
    "dots={x(t).diff(t):x2(t),x(t):x1(t)}\n",
    "eqs=[eom.subs(dots),x1(t).diff(t)-x2(t)]\n"
   ]
  },
  {
   "cell_type": "code",
   "execution_count": 9,
   "metadata": {},
   "outputs": [
    {
     "data": {
      "text/plain": [
       "{Derivative(x1(t), t): x2(t), Derivative(x2(t), t): -c*x2(t)/m - k*x1(t)/m}"
      ]
     },
     "execution_count": 9,
     "metadata": {},
     "output_type": "execute_result"
    }
   ],
   "source": [
    "#Despejamos las derivadas de las variables de estado\n",
    "sln=sympy.solve(eqs,[x1(t).diff(t),x2(t).diff(t)])\n",
    "sln"
   ]
  },
  {
   "cell_type": "code",
   "execution_count": 10,
   "metadata": {},
   "outputs": [],
   "source": [
    "# Podemos sacar el lado derecho de las ecuaciones diferenciales\n",
    "# y agrupar en forma matricial.\n",
    "rhs=[item[1] for item in sln.items()]\n",
    "A=sympy.linear_eq_to_matrix(rhs,[x1(t),x2(t)])[0]"
   ]
  },
  {
   "cell_type": "code",
   "execution_count": 11,
   "metadata": {},
   "outputs": [
    {
     "data": {
      "text/latex": [
       "$\\displaystyle \\left[\\begin{matrix}0 & 1\\\\- \\frac{k}{m} & - \\frac{c}{m}\\end{matrix}\\right]$"
      ],
      "text/plain": [
       "Matrix([\n",
       "[   0,    1],\n",
       "[-k/m, -c/m]])"
      ]
     },
     "execution_count": 11,
     "metadata": {},
     "output_type": "execute_result"
    }
   ],
   "source": [
    "A"
   ]
  },
  {
   "cell_type": "code",
   "execution_count": 12,
   "metadata": {},
   "outputs": [
    {
     "data": {
      "text/plain": [
       "{-c/(2*m) - sqrt(c**2 - 4*k*m)/(2*m): 1,\n",
       " -c/(2*m) + sqrt(c**2 - 4*k*m)/(2*m): 1}"
      ]
     },
     "execution_count": 12,
     "metadata": {},
     "output_type": "execute_result"
    }
   ],
   "source": [
    "# Podemos calcular los valores propios del sistema\n",
    "# Esto es una característica importante de los sistemas \n",
    "#dinámicos lineales. ¿Qué significan?\n",
    "A.eigenvals()"
   ]
  }
 ],
 "metadata": {
  "kernelspec": {
   "display_name": "Python 3 (ipykernel)",
   "language": "python",
   "name": "python3"
  },
  "language_info": {
   "codemirror_mode": {
    "name": "ipython",
    "version": 3
   },
   "file_extension": ".py",
   "mimetype": "text/x-python",
   "name": "python",
   "nbconvert_exporter": "python",
   "pygments_lexer": "ipython3",
   "version": "3.11.2"
  },
  "toc": {
   "base_numbering": 1,
   "nav_menu": {},
   "number_sections": false,
   "sideBar": true,
   "skip_h1_title": true,
   "title_cell": "Table of Contents",
   "title_sidebar": "Contents",
   "toc_cell": false,
   "toc_position": {},
   "toc_section_display": true,
   "toc_window_display": false
  }
 },
 "nbformat": 4,
 "nbformat_minor": 4
}
