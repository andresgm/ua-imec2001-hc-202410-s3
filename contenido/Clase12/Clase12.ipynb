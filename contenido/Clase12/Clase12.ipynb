{
 "cells": [
  {
   "cell_type": "markdown",
   "id": "569cbdec",
   "metadata": {},
   "source": [
    "# IMEC2001 Herramientas Computacionales \n",
    "## Clase 12 - Procesamiento de imágenes\n",
    "\n",
    "\n",
    "## TABLA DE CONTENIDO\n",
    "\n",
    "- 1.1. Cargar Librerías\n",
    "- 1.2. Descargar y cargar imágenes\n",
    "- 1.3. Contenido de una imágen\n",
    "- 1.4. Visualización\n",
    "- 1.6. Modificar canales\n",
    "- 1.5. Redimensionamiento\n",
    "- 1.6. Transformaciones afines\n",
    "- 1.7. Detección de bordes\n",
    "- 1.8. Dibujar sobre la imagen\n",
    "- 1.9. Modificar y guardar imágenes\n",
    "\n",
    "En esta clase se exploran varias técnicas y operaciones fundamentales con OpenCV que permitirán comenzar a trabajar en el procesamiento y análisis de imágenes.\n",
    "Este cuaderno cubre la manipulación básica hasta conceptos más avanzados como detección de contornos y transformaciones morfológicas. \n"
   ]
  },
  {
   "cell_type": "markdown",
   "id": "db3d5d2b",
   "metadata": {},
   "source": [
    "## 1.1. Cargar Librerías\n",
    "\n",
    "OpenCV es una biblioteca muy poderosa con muchas más funcionalidades. En este cuaderno vamos a experimentar con diferentes funciones que ayudan a comprender mejor cómo se constiuye una imagen en cuanto a su estructura de datos y la aplicón de herramientas para su manipulación."
   ]
  },
  {
   "cell_type": "code",
   "execution_count": 1,
   "id": "aed68077",
   "metadata": {},
   "outputs": [
    {
     "name": "stdout",
     "output_type": "stream",
     "text": [
      "Collecting pywget\n",
      "  Obtaining dependency information for pywget from https://files.pythonhosted.org/packages/7f/95/50c18a5252cce92ed2b928e21fa9c5a56ee3c2c7504a86b04ab0314ee7e5/pywget-0.31-py2.py3-none-any.whl.metadata\n",
      "  Downloading pywget-0.31-py2.py3-none-any.whl.metadata (2.1 kB)\n",
      "Downloading pywget-0.31-py2.py3-none-any.whl (13 kB)\n",
      "Installing collected packages: pywget\n",
      "Successfully installed pywget-0.31\n"
     ]
    },
    {
     "name": "stderr",
     "output_type": "stream",
     "text": [
      "\n",
      "[notice] A new release of pip is available: 23.2.1 -> 24.0\n",
      "[notice] To update, run: python.exe -m pip install --upgrade pip\n"
     ]
    },
    {
     "name": "stdout",
     "output_type": "stream",
     "text": [
      "Collecting opencv-python\n",
      "  Obtaining dependency information for opencv-python from https://files.pythonhosted.org/packages/c7/ec/9dabb6a9abfdebb3c45b0cc52dec901caafef2b2c7e7d6a839ed86d81e91/opencv_python-4.9.0.80-cp37-abi3-win_amd64.whl.metadata\n",
      "  Downloading opencv_python-4.9.0.80-cp37-abi3-win_amd64.whl.metadata (20 kB)\n",
      "Requirement already satisfied: numpy>=1.21.2 in c:\\users\\jcl00\\pyenvs\\math\\lib\\site-packages (from opencv-python) (1.26.1)\n",
      "Downloading opencv_python-4.9.0.80-cp37-abi3-win_amd64.whl (38.6 MB)\n",
      "   ---------------------------------------- 0.0/38.6 MB ? eta -:--:--\n",
      "   ---------------------------------------- 0.0/38.6 MB ? eta -:--:--\n",
      "   ---------------------------------------- 0.0/38.6 MB 660.6 kB/s eta 0:00:59\n",
      "   ---------------------------------------- 0.0/38.6 MB 495.5 kB/s eta 0:01:18\n",
      "   ---------------------------------------- 0.0/38.6 MB 495.5 kB/s eta 0:01:18\n",
      "   ---------------------------------------- 0.1/38.6 MB 328.6 kB/s eta 0:01:58\n",
      "   ---------------------------------------- 0.1/38.6 MB 437.6 kB/s eta 0:01:29\n",
      "   ---------------------------------------- 0.1/38.6 MB 502.3 kB/s eta 0:01:17\n",
      "   ---------------------------------------- 0.1/38.6 MB 502.3 kB/s eta 0:01:17\n",
      "   ---------------------------------------- 0.2/38.6 MB 476.3 kB/s eta 0:01:21\n",
      "   ---------------------------------------- 0.2/38.6 MB 554.9 kB/s eta 0:01:10\n",
      "   ---------------------------------------- 0.3/38.6 MB 587.7 kB/s eta 0:01:06\n",
      "   ---------------------------------------- 0.3/38.6 MB 587.7 kB/s eta 0:01:06\n",
      "   ---------------------------------------- 0.3/38.6 MB 542.9 kB/s eta 0:01:11\n",
      "   ---------------------------------------- 0.4/38.6 MB 603.4 kB/s eta 0:01:04\n",
      "   ---------------------------------------- 0.4/38.6 MB 622.6 kB/s eta 0:01:02\n",
      "   ---------------------------------------- 0.4/38.6 MB 622.6 kB/s eta 0:01:02\n",
      "   ---------------------------------------- 0.5/38.6 MB 614.4 kB/s eta 0:01:03\n",
      "    --------------------------------------- 0.6/38.6 MB 783.7 kB/s eta 0:00:49\n",
      "    --------------------------------------- 0.7/38.6 MB 832.3 kB/s eta 0:00:46\n",
      "    --------------------------------------- 0.8/38.6 MB 877.7 kB/s eta 0:00:44\n",
      "    --------------------------------------- 0.9/38.6 MB 928.9 kB/s eta 0:00:41\n",
      "    --------------------------------------- 1.0/38.6 MB 999.3 kB/s eta 0:00:38\n",
      "   - -------------------------------------- 1.1/38.6 MB 1.1 MB/s eta 0:00:34\n",
      "   - -------------------------------------- 1.5/38.6 MB 1.4 MB/s eta 0:00:27\n",
      "   - -------------------------------------- 1.5/38.6 MB 1.4 MB/s eta 0:00:27\n",
      "   - -------------------------------------- 1.8/38.6 MB 1.5 MB/s eta 0:00:25\n",
      "   -- ------------------------------------- 2.0/38.6 MB 1.7 MB/s eta 0:00:22\n",
      "   -- ------------------------------------- 2.4/38.6 MB 1.9 MB/s eta 0:00:19\n",
      "   -- ------------------------------------- 2.4/38.6 MB 1.9 MB/s eta 0:00:19\n",
      "   -- ------------------------------------- 2.4/38.6 MB 1.9 MB/s eta 0:00:19\n",
      "   -- ------------------------------------- 2.4/38.6 MB 1.9 MB/s eta 0:00:19\n",
      "   -- ------------------------------------- 2.4/38.6 MB 1.9 MB/s eta 0:00:19\n",
      "   -- ------------------------------------- 2.4/38.6 MB 1.9 MB/s eta 0:00:19\n",
      "   -- ------------------------------------- 2.4/38.6 MB 1.9 MB/s eta 0:00:19\n",
      "   --- ------------------------------------ 2.9/38.6 MB 1.9 MB/s eta 0:00:19\n",
      "   --- ------------------------------------ 3.2/38.6 MB 2.0 MB/s eta 0:00:18\n",
      "   --- ------------------------------------ 3.2/38.6 MB 2.0 MB/s eta 0:00:18\n",
      "   --- ------------------------------------ 3.8/38.6 MB 2.3 MB/s eta 0:00:16\n",
      "   ----- ---------------------------------- 5.0/38.6 MB 2.8 MB/s eta 0:00:12\n",
      "   ----- ---------------------------------- 5.3/38.6 MB 2.9 MB/s eta 0:00:12\n",
      "   ----- ---------------------------------- 5.4/38.6 MB 3.0 MB/s eta 0:00:12\n",
      "   ----- ---------------------------------- 5.4/38.6 MB 2.9 MB/s eta 0:00:12\n",
      "   ------ --------------------------------- 5.9/38.6 MB 3.1 MB/s eta 0:00:11\n",
      "   ------ --------------------------------- 6.4/38.6 MB 3.2 MB/s eta 0:00:11\n",
      "   ------ --------------------------------- 6.6/38.6 MB 3.3 MB/s eta 0:00:10\n",
      "   ------ --------------------------------- 6.6/38.6 MB 3.3 MB/s eta 0:00:10\n",
      "   ------ --------------------------------- 6.6/38.6 MB 3.3 MB/s eta 0:00:10\n",
      "   ------- -------------------------------- 7.0/38.6 MB 3.2 MB/s eta 0:00:10\n",
      "   ------- -------------------------------- 7.5/38.6 MB 3.4 MB/s eta 0:00:10\n",
      "   -------- ------------------------------- 7.8/38.6 MB 3.5 MB/s eta 0:00:09\n",
      "   -------- ------------------------------- 7.8/38.6 MB 3.5 MB/s eta 0:00:09\n",
      "   -------- ------------------------------- 7.9/38.6 MB 3.4 MB/s eta 0:00:10\n",
      "   -------- ------------------------------- 8.3/38.6 MB 3.5 MB/s eta 0:00:09\n",
      "   -------- ------------------------------- 8.6/38.6 MB 3.5 MB/s eta 0:00:09\n",
      "   --------- ------------------------------ 8.9/38.6 MB 3.6 MB/s eta 0:00:09\n",
      "   --------- ------------------------------ 9.2/38.6 MB 3.6 MB/s eta 0:00:09\n",
      "   --------- ------------------------------ 9.4/38.6 MB 3.7 MB/s eta 0:00:08\n",
      "   --------- ------------------------------ 9.5/38.6 MB 3.7 MB/s eta 0:00:08\n",
      "   --------- ------------------------------ 9.5/38.6 MB 3.7 MB/s eta 0:00:08\n",
      "   --------- ------------------------------ 9.5/38.6 MB 3.7 MB/s eta 0:00:08\n",
      "   --------- ------------------------------ 9.5/38.6 MB 3.7 MB/s eta 0:00:08\n",
      "   ---------- ----------------------------- 9.8/38.6 MB 3.5 MB/s eta 0:00:09\n",
      "   ---------- ----------------------------- 10.1/38.6 MB 3.5 MB/s eta 0:00:09\n",
      "   ----------- ---------------------------- 11.3/38.6 MB 5.4 MB/s eta 0:00:06\n",
      "   ----------- ---------------------------- 11.3/38.6 MB 5.3 MB/s eta 0:00:06\n",
      "   ------------ --------------------------- 11.7/38.6 MB 5.2 MB/s eta 0:00:06\n",
      "   ------------ --------------------------- 11.8/38.6 MB 5.4 MB/s eta 0:00:05\n",
      "   ------------ --------------------------- 11.8/38.6 MB 5.4 MB/s eta 0:00:05\n",
      "   ------------ --------------------------- 12.1/38.6 MB 5.2 MB/s eta 0:00:06\n",
      "   ------------ --------------------------- 12.3/38.6 MB 5.2 MB/s eta 0:00:06\n",
      "   ------------- -------------------------- 12.6/38.6 MB 5.1 MB/s eta 0:00:06\n",
      "   ------------- -------------------------- 12.7/38.6 MB 6.1 MB/s eta 0:00:05\n",
      "   ------------- -------------------------- 12.9/38.6 MB 5.8 MB/s eta 0:00:05\n",
      "   ------------- -------------------------- 13.2/38.6 MB 5.7 MB/s eta 0:00:05\n",
      "   ------------- -------------------------- 13.4/38.6 MB 5.8 MB/s eta 0:00:05\n",
      "   -------------- ------------------------- 13.5/38.6 MB 5.7 MB/s eta 0:00:05\n",
      "   -------------- ------------------------- 13.7/38.6 MB 5.6 MB/s eta 0:00:05\n",
      "   -------------- ------------------------- 13.9/38.6 MB 5.5 MB/s eta 0:00:05\n",
      "   -------------- ------------------------- 14.3/38.6 MB 5.5 MB/s eta 0:00:05\n",
      "   -------------- ------------------------- 14.5/38.6 MB 5.4 MB/s eta 0:00:05\n",
      "   --------------- ------------------------ 14.6/38.6 MB 5.3 MB/s eta 0:00:05\n",
      "   --------------- ------------------------ 14.9/38.6 MB 5.2 MB/s eta 0:00:05\n",
      "   --------------- ------------------------ 14.9/38.6 MB 5.2 MB/s eta 0:00:05\n",
      "   --------------- ------------------------ 14.9/38.6 MB 5.2 MB/s eta 0:00:05\n",
      "   --------------- ------------------------ 14.9/38.6 MB 5.2 MB/s eta 0:00:05\n",
      "   --------------- ------------------------ 15.2/38.6 MB 4.7 MB/s eta 0:00:05\n",
      "   ---------------- ----------------------- 15.6/38.6 MB 4.8 MB/s eta 0:00:05\n",
      "   ---------------- ----------------------- 15.8/38.6 MB 4.9 MB/s eta 0:00:05\n",
      "   ---------------- ----------------------- 15.8/38.6 MB 4.9 MB/s eta 0:00:05\n",
      "   ---------------- ----------------------- 15.9/38.6 MB 4.7 MB/s eta 0:00:05\n",
      "   ---------------- ----------------------- 16.1/38.6 MB 4.6 MB/s eta 0:00:05\n",
      "   ---------------- ----------------------- 16.4/38.6 MB 4.6 MB/s eta 0:00:05\n",
      "   ----------------- ---------------------- 16.5/38.6 MB 4.5 MB/s eta 0:00:05\n",
      "   ----------------- ---------------------- 16.8/38.6 MB 4.5 MB/s eta 0:00:05\n",
      "   ----------------- ---------------------- 16.9/38.6 MB 4.7 MB/s eta 0:00:05\n",
      "   ----------------- ---------------------- 17.2/38.6 MB 4.7 MB/s eta 0:00:05\n",
      "   ------------------ --------------------- 17.4/38.6 MB 4.6 MB/s eta 0:00:05\n",
      "   ------------------ --------------------- 17.7/38.6 MB 4.5 MB/s eta 0:00:05\n",
      "   ------------------ --------------------- 17.9/38.6 MB 4.5 MB/s eta 0:00:05\n",
      "   ------------------ --------------------- 18.0/38.6 MB 4.5 MB/s eta 0:00:05\n",
      "   ------------------ --------------------- 18.3/38.6 MB 4.6 MB/s eta 0:00:05\n",
      "   ------------------- -------------------- 18.7/38.6 MB 4.6 MB/s eta 0:00:05\n",
      "   ------------------- -------------------- 18.8/38.6 MB 4.6 MB/s eta 0:00:05\n",
      "   ------------------- -------------------- 19.0/38.6 MB 4.5 MB/s eta 0:00:05\n",
      "   ------------------- -------------------- 19.2/38.6 MB 4.5 MB/s eta 0:00:05\n",
      "   ------------------- -------------------- 19.3/38.6 MB 4.5 MB/s eta 0:00:05\n",
      "   -------------------- ------------------- 19.8/38.6 MB 4.9 MB/s eta 0:00:04\n",
      "   -------------------- ------------------- 20.0/38.6 MB 4.9 MB/s eta 0:00:04\n",
      "   -------------------- ------------------- 20.0/38.6 MB 4.9 MB/s eta 0:00:04\n",
      "   -------------------- ------------------- 20.2/38.6 MB 4.7 MB/s eta 0:00:04\n",
      "   -------------------- ------------------- 20.2/38.6 MB 4.7 MB/s eta 0:00:04\n",
      "   --------------------- ------------------ 20.7/38.6 MB 4.6 MB/s eta 0:00:04\n",
      "   --------------------- ------------------ 20.7/38.6 MB 4.6 MB/s eta 0:00:04\n",
      "   --------------------- ------------------ 21.0/38.6 MB 4.4 MB/s eta 0:00:05\n",
      "   --------------------- ------------------ 21.2/38.6 MB 4.4 MB/s eta 0:00:04\n",
      "   ---------------------- ----------------- 21.5/38.6 MB 4.3 MB/s eta 0:00:05\n",
      "   ---------------------- ----------------- 21.7/38.6 MB 4.3 MB/s eta 0:00:04\n",
      "   ---------------------- ----------------- 21.9/38.6 MB 4.3 MB/s eta 0:00:04\n",
      "   ---------------------- ----------------- 21.9/38.6 MB 4.3 MB/s eta 0:00:04\n",
      "   ---------------------- ----------------- 22.1/38.6 MB 4.3 MB/s eta 0:00:04\n",
      "   ---------------------- ----------------- 22.1/38.6 MB 4.3 MB/s eta 0:00:04\n",
      "   ---------------------- ----------------- 22.1/38.6 MB 4.3 MB/s eta 0:00:04\n",
      "   ---------------------- ----------------- 22.1/38.6 MB 4.3 MB/s eta 0:00:04\n",
      "   ----------------------- ---------------- 22.2/38.6 MB 4.0 MB/s eta 0:00:05\n",
      "   ------------------------ --------------- 23.4/38.6 MB 4.4 MB/s eta 0:00:04\n",
      "   ------------------------ --------------- 23.6/38.6 MB 4.4 MB/s eta 0:00:04\n",
      "   ------------------------ --------------- 23.6/38.6 MB 4.3 MB/s eta 0:00:04\n",
      "   ------------------------ --------------- 23.6/38.6 MB 4.3 MB/s eta 0:00:04\n",
      "   ------------------------ --------------- 23.9/38.6 MB 4.3 MB/s eta 0:00:04\n",
      "   ------------------------- -------------- 24.3/38.6 MB 4.3 MB/s eta 0:00:04\n",
      "   ------------------------- -------------- 24.3/38.6 MB 4.3 MB/s eta 0:00:04\n",
      "   ------------------------- -------------- 24.4/38.6 MB 4.2 MB/s eta 0:00:04\n",
      "   ------------------------- -------------- 24.5/38.6 MB 4.1 MB/s eta 0:00:04\n",
      "   ------------------------- -------------- 24.6/38.6 MB 4.1 MB/s eta 0:00:04\n",
      "   ------------------------- -------------- 24.9/38.6 MB 4.2 MB/s eta 0:00:04\n",
      "   -------------------------- ------------- 25.1/38.6 MB 4.4 MB/s eta 0:00:04\n",
      "   -------------------------- ------------- 25.1/38.6 MB 4.4 MB/s eta 0:00:04\n",
      "   -------------------------- ------------- 25.3/38.6 MB 4.3 MB/s eta 0:00:04\n",
      "   -------------------------- ------------- 25.5/38.6 MB 4.3 MB/s eta 0:00:04\n",
      "   -------------------------- ------------- 25.7/38.6 MB 4.2 MB/s eta 0:00:04\n",
      "   -------------------------- ------------- 25.9/38.6 MB 4.1 MB/s eta 0:00:04\n",
      "   -------------------------- ------------- 26.0/38.6 MB 4.1 MB/s eta 0:00:04\n",
      "   --------------------------- ------------ 26.2/38.6 MB 4.2 MB/s eta 0:00:03\n",
      "   --------------------------- ------------ 26.5/38.6 MB 4.3 MB/s eta 0:00:03\n",
      "   --------------------------- ------------ 26.5/38.6 MB 4.3 MB/s eta 0:00:03\n",
      "   --------------------------- ------------ 26.6/38.6 MB 4.1 MB/s eta 0:00:03\n",
      "   --------------------------- ------------ 26.8/38.6 MB 4.2 MB/s eta 0:00:03\n",
      "   --------------------------- ------------ 26.9/38.6 MB 4.1 MB/s eta 0:00:03\n",
      "   ---------------------------- ----------- 27.2/38.6 MB 4.1 MB/s eta 0:00:03\n",
      "   ---------------------------- ----------- 27.3/38.6 MB 4.1 MB/s eta 0:00:03\n",
      "   ---------------------------- ----------- 27.5/38.6 MB 4.1 MB/s eta 0:00:03\n",
      "   ---------------------------- ----------- 27.6/38.6 MB 4.0 MB/s eta 0:00:03\n",
      "   ---------------------------- ----------- 27.9/38.6 MB 4.0 MB/s eta 0:00:03\n",
      "   ----------------------------- ---------- 28.1/38.6 MB 4.0 MB/s eta 0:00:03\n",
      "   ----------------------------- ---------- 28.2/38.6 MB 4.1 MB/s eta 0:00:03\n",
      "   ----------------------------- ---------- 28.5/38.6 MB 4.0 MB/s eta 0:00:03\n",
      "   ----------------------------- ---------- 28.5/38.6 MB 4.0 MB/s eta 0:00:03\n",
      "   ----------------------------- ---------- 28.9/38.6 MB 4.0 MB/s eta 0:00:03\n",
      "   ------------------------------ --------- 29.0/38.6 MB 4.0 MB/s eta 0:00:03\n",
      "   ------------------------------ --------- 29.1/38.6 MB 3.9 MB/s eta 0:00:03\n",
      "   ------------------------------ --------- 29.4/38.6 MB 4.0 MB/s eta 0:00:03\n",
      "   ------------------------------ --------- 29.5/38.6 MB 3.9 MB/s eta 0:00:03\n",
      "   ------------------------------ --------- 29.8/38.6 MB 3.9 MB/s eta 0:00:03\n",
      "   ------------------------------ --------- 29.9/38.6 MB 3.9 MB/s eta 0:00:03\n",
      "   ------------------------------- -------- 30.0/38.6 MB 3.8 MB/s eta 0:00:03\n",
      "   ------------------------------- -------- 30.1/38.6 MB 3.8 MB/s eta 0:00:03\n",
      "   ------------------------------- -------- 30.2/38.6 MB 3.8 MB/s eta 0:00:03\n",
      "   ------------------------------- -------- 30.5/38.6 MB 3.9 MB/s eta 0:00:03\n",
      "   ------------------------------- -------- 30.8/38.6 MB 3.9 MB/s eta 0:00:02\n",
      "   ------------------------------- -------- 30.9/38.6 MB 3.9 MB/s eta 0:00:02\n",
      "   -------------------------------- ------- 31.0/38.6 MB 3.9 MB/s eta 0:00:02\n",
      "   -------------------------------- ------- 31.2/38.6 MB 3.9 MB/s eta 0:00:02\n",
      "   -------------------------------- ------- 31.4/38.6 MB 3.8 MB/s eta 0:00:02\n",
      "   -------------------------------- ------- 31.7/38.6 MB 3.8 MB/s eta 0:00:02\n",
      "   --------------------------------- ------ 31.9/38.6 MB 3.8 MB/s eta 0:00:02\n",
      "   --------------------------------- ------ 31.9/38.6 MB 3.8 MB/s eta 0:00:02\n",
      "   --------------------------------- ------ 32.1/38.6 MB 3.8 MB/s eta 0:00:02\n",
      "   --------------------------------- ------ 32.1/38.6 MB 3.8 MB/s eta 0:00:02\n",
      "   --------------------------------- ------ 32.6/38.6 MB 4.1 MB/s eta 0:00:02\n",
      "   --------------------------------- ------ 32.8/38.6 MB 4.0 MB/s eta 0:00:02\n",
      "   --------------------------------- ------ 32.8/38.6 MB 4.0 MB/s eta 0:00:02\n",
      "   ---------------------------------- ----- 33.0/38.6 MB 3.9 MB/s eta 0:00:02\n",
      "   ---------------------------------- ----- 33.2/38.6 MB 3.8 MB/s eta 0:00:02\n",
      "   ---------------------------------- ----- 33.2/38.6 MB 3.8 MB/s eta 0:00:02\n",
      "   ---------------------------------- ----- 33.2/38.6 MB 3.7 MB/s eta 0:00:02\n",
      "   ---------------------------------- ----- 33.8/38.6 MB 3.7 MB/s eta 0:00:02\n",
      "   ----------------------------------- ---- 34.0/38.6 MB 3.8 MB/s eta 0:00:02\n",
      "   ----------------------------------- ---- 34.0/38.6 MB 3.8 MB/s eta 0:00:02\n",
      "   ----------------------------------- ---- 34.0/38.6 MB 3.8 MB/s eta 0:00:02\n",
      "   ----------------------------------- ---- 34.2/38.6 MB 3.7 MB/s eta 0:00:02\n",
      "   ----------------------------------- ---- 34.5/38.6 MB 3.7 MB/s eta 0:00:02\n",
      "   ------------------------------------ --- 34.8/38.6 MB 3.8 MB/s eta 0:00:02\n",
      "   ------------------------------------ --- 34.9/38.6 MB 3.8 MB/s eta 0:00:01\n",
      "   ------------------------------------ --- 35.0/38.6 MB 3.7 MB/s eta 0:00:01\n",
      "   ------------------------------------ --- 35.2/38.6 MB 3.7 MB/s eta 0:00:01\n",
      "   ------------------------------------ --- 35.5/38.6 MB 3.8 MB/s eta 0:00:01\n",
      "   ------------------------------------ --- 35.7/38.6 MB 3.8 MB/s eta 0:00:01\n",
      "   ------------------------------------- -- 35.9/38.6 MB 3.8 MB/s eta 0:00:01\n",
      "   ------------------------------------- -- 36.1/38.6 MB 3.8 MB/s eta 0:00:01\n",
      "   ------------------------------------- -- 36.2/38.6 MB 3.8 MB/s eta 0:00:01\n",
      "   ------------------------------------- -- 36.4/38.6 MB 3.8 MB/s eta 0:00:01\n",
      "   ------------------------------------- -- 36.7/38.6 MB 3.8 MB/s eta 0:00:01\n",
      "   -------------------------------------- - 36.9/38.6 MB 3.9 MB/s eta 0:00:01\n",
      "   -------------------------------------- - 37.1/38.6 MB 3.9 MB/s eta 0:00:01\n",
      "   -------------------------------------- - 37.3/38.6 MB 3.9 MB/s eta 0:00:01\n",
      "   -------------------------------------- - 37.4/38.6 MB 3.9 MB/s eta 0:00:01\n",
      "   -------------------------------------- - 37.4/38.6 MB 3.9 MB/s eta 0:00:01\n",
      "   -------------------------------------- - 37.4/38.6 MB 3.9 MB/s eta 0:00:01\n",
      "   -------------------------------------- - 37.5/38.6 MB 3.8 MB/s eta 0:00:01\n",
      "   -------------------------------------- - 37.5/38.6 MB 3.8 MB/s eta 0:00:01\n",
      "   -------------------------------------- - 37.5/38.6 MB 3.8 MB/s eta 0:00:01\n",
      "   -------------------------------------- - 37.5/38.6 MB 3.8 MB/s eta 0:00:01\n",
      "   -------------------------------------- - 37.5/38.6 MB 3.8 MB/s eta 0:00:01\n",
      "   ---------------------------------------  38.4/38.6 MB 3.8 MB/s eta 0:00:01\n",
      "   ---------------------------------------  38.5/38.6 MB 3.7 MB/s eta 0:00:01\n",
      "   ---------------------------------------  38.5/38.6 MB 3.7 MB/s eta 0:00:01\n",
      "   ---------------------------------------  38.5/38.6 MB 3.7 MB/s eta 0:00:01\n",
      "   ---------------------------------------  38.6/38.6 MB 3.6 MB/s eta 0:00:01\n",
      "   ---------------------------------------  38.6/38.6 MB 3.6 MB/s eta 0:00:01\n",
      "   ---------------------------------------  38.6/38.6 MB 3.6 MB/s eta 0:00:01\n",
      "   ---------------------------------------  38.6/38.6 MB 3.6 MB/s eta 0:00:01\n",
      "   ---------------------------------------  38.6/38.6 MB 3.6 MB/s eta 0:00:01\n",
      "   ---------------------------------------  38.6/38.6 MB 3.6 MB/s eta 0:00:01\n",
      "   ---------------------------------------  38.6/38.6 MB 3.6 MB/s eta 0:00:01\n",
      "   ---------------------------------------  38.6/38.6 MB 3.6 MB/s eta 0:00:01\n",
      "   ---------------------------------------  38.6/38.6 MB 3.6 MB/s eta 0:00:01\n",
      "   ---------------------------------------  38.6/38.6 MB 3.6 MB/s eta 0:00:01\n",
      "   ---------------------------------------  38.6/38.6 MB 3.6 MB/s eta 0:00:01\n",
      "   ---------------------------------------  38.6/38.6 MB 3.6 MB/s eta 0:00:01\n",
      "   ---------------------------------------- 38.6/38.6 MB 3.0 MB/s eta 0:00:00\n",
      "Installing collected packages: opencv-python\n",
      "Successfully installed opencv-python-4.9.0.80\n"
     ]
    },
    {
     "name": "stderr",
     "output_type": "stream",
     "text": [
      "\n",
      "[notice] A new release of pip is available: 23.2.1 -> 24.0\n",
      "[notice] To update, run: python.exe -m pip install --upgrade pip\n"
     ]
    }
   ],
   "source": [
    "!pip install pywget\n",
    "!pip install opencv-python"
   ]
  },
  {
   "cell_type": "code",
   "execution_count": 2,
   "id": "54698687",
   "metadata": {},
   "outputs": [],
   "source": [
    "from pywget import wget\n",
    "import cv2\n",
    "import glob\n",
    "import numpy as np"
   ]
  },
  {
   "cell_type": "markdown",
   "id": "540ae6f7",
   "metadata": {},
   "source": [
    "## 1.2. Descargar y cargar imágenes\n",
    "\n",
    "Se pueden descargar imágenes directamente desde la web a través de su URL. \n",
    "En esta celda tenemos una lista de links a imágenes y se utiliza el paquete pywget para descargarlas.\n",
    "También se utiliza el paquete glob para poder revisar los archivos jpg en el directorio de trabajo."
   ]
  },
  {
   "cell_type": "code",
   "execution_count": 3,
   "id": "4b4c883d",
   "metadata": {},
   "outputs": [
    {
     "name": "stdout",
     "output_type": "stream",
     "text": [
      "100% [..............................................................................] 90656 / 90656"
     ]
    }
   ],
   "source": [
    "img_url=list()\n",
    "img_url.append('https://i.pinimg.com/originals/5b/a1/98/5ba198c583f798939869ca854017ce4d.jpg')\n",
    "img_url.append('https://khpet.com/cdn/shop/articles/when-do-puppies-start-walking_800x800.jpg?v=1593020034')\n",
    "img_url.append('https://i.pinimg.com/736x/a2/41/bf/a241bf580bd666a05de1fa3b53f973e7.jpg')\n",
    "\n",
    "#Descargemos algunas imágenes desde la web\n",
    "if not glob.glob('./*.jpg'):\n",
    "    for url in img_url:\n",
    "        file=wget.download(url)        \n",
    "img=[]\n",
    "for file in glob.glob('./*.jpg'):\n",
    "    img.append(cv2.imread(file))\n",
    "    \n",
    "#img contiene una lista de imagenes (pixeles)\n",
    "\n",
    "    "
   ]
  },
  {
   "cell_type": "markdown",
   "id": "a1bc2f3d",
   "metadata": {},
   "source": [
    "## 1.3. Contenido de una imágen\n",
    "\n",
    "Una imagen digital se representa comúnmente como una matriz tridimensional de valores numéricos. Estos valores representan los píxeles que conforman la imagen. La forma en que estos píxeles están organizados y el significado detrás de sus valores depende del espacio de color utilizado por la imagen.\n",
    "\n",
    "Los pixeles son la unidad básica programable con información visual en una pantalla digital o en este caso, dentro de una matriz que constituye una imagen digital. Cada pixel contiene datos sobre el brillo y posiblemente también sobre el color que debe representarse en ese punto específico de la imagen.\n",
    "\n",
    "En OpenCV, el espacio de color predeterminado para las imágenes es BGR, lo cual significa Azul (Blue), Verde (Green) y Rojo (Red). Esto difiere del más conocido RGB porque simplemente invierte el orden de los canales rojo y azul.\n",
    "\n",
    "Cada pixel en una imagen BGR está compuesto por tres componentes o canales:\n",
    "\n",
    "- **B** (Azul): El primer canal representa la intensidad del color azul.\n",
    "- **G** (Verde): El segundo canal representa la intensidad del color verde.\n",
    "- **R** (Rojo): El tercer canal representa la intensidad del color rojo.\n",
    "\n",
    "Por ejemplo, un pixel específico en una imagen podría tener un valor expresado como `[255, 0, 0]`. En formato BGR esto significaría que dicho pixel es completamente azul (`255` para azul), sin ninguna contribución verde (`0` para verde) ni roja (`0` para rojo).\n",
    "\n"
   ]
  },
  {
   "cell_type": "code",
   "execution_count": 4,
   "id": "393691bb",
   "metadata": {},
   "outputs": [
    {
     "name": "stdout",
     "output_type": "stream",
     "text": [
      "Shape:(570, 800, 3)\n",
      "[[[ 51  50  40]\n",
      "  [ 51  50  40]\n",
      "  [ 50  50  38]\n",
      "  ...\n",
      "  [ 36  44  33]\n",
      "  [ 35  44  34]\n",
      "  [ 35  44  34]]\n",
      "\n",
      " [[ 51  50  40]\n",
      "  [ 51  50  40]\n",
      "  [ 50  50  38]\n",
      "  ...\n",
      "  [ 36  44  33]\n",
      "  [ 35  44  34]\n",
      "  [ 35  44  34]]\n",
      "\n",
      " [[ 52  50  39]\n",
      "  [ 51  49  38]\n",
      "  [ 50  48  37]\n",
      "  ...\n",
      "  [ 36  44  33]\n",
      "  [ 35  44  34]\n",
      "  [ 35  44  34]]\n",
      "\n",
      " ...\n",
      "\n",
      " [[143 179 185]\n",
      "  [143 181 186]\n",
      "  [144 182 187]\n",
      "  ...\n",
      "  [156 195 174]\n",
      "  [149 195 172]\n",
      "  [143 194 167]]\n",
      "\n",
      " [[142 180 184]\n",
      "  [136 176 181]\n",
      "  [136 175 183]\n",
      "  ...\n",
      "  [153 194 167]\n",
      "  [147 192 165]\n",
      "  [142 190 161]]\n",
      "\n",
      " [[142 180 184]\n",
      "  [136 176 181]\n",
      "  [136 175 183]\n",
      "  ...\n",
      "  [153 194 167]\n",
      "  [147 192 165]\n",
      "  [142 190 161]]]\n"
     ]
    }
   ],
   "source": [
    "#Miremos una de las imagenes para entender su contenido\n",
    "idx=2\n",
    "print('Shape:{}'.format(img[idx].shape))\n",
    "# Los dos primeros indices representan el pixel i,j \n",
    "# el último indice representa el canal (BGR)\n",
    "print(img[idx])"
   ]
  },
  {
   "cell_type": "markdown",
   "id": "c55c1f2f",
   "metadata": {},
   "source": [
    "## 1.4. Visualización\n",
    "La visualización de una matriz de imagen se puede hacer con el comando `cv2.imshow`\n",
    "\n",
    "Siempre que se abran las ventanas de imshow se deben cerrar usando `cv.destroyAllWindows()` para no bloquear el proceso del kernel.\n",
    "\n",
    "Entonces utilizamos el comando `waitKey()` para esperar una entrada cualquiera del usuario antes de cerrar la ventana."
   ]
  },
  {
   "cell_type": "code",
   "execution_count": null,
   "id": "9f70722d",
   "metadata": {},
   "outputs": [],
   "source": [
    "#Visualizemos la imagen\n",
    "cv2.imshow('Imagen', img[idx])\n",
    "cv2.waitKey(0) # Espera hasta que se presione alguna tecla para continuar\n",
    "cv2.destroyAllWindows() # Cierra todas las ventanas abiertas por OpenCV\n",
    "\n",
    "def view(img):\n",
    "    cv2.imshow(\"Imagen Redimensionada\", img)\n",
    "    cv2.waitKey(0)\n",
    "    cv2.destroyAllWindows()"
   ]
  },
  {
   "cell_type": "markdown",
   "id": "5edb0ecc",
   "metadata": {},
   "source": [
    "## 1.6. Modificar canales\n",
    "\n",
    "Siendo la imagen una matriz (W,H,channels) podemos utilizar cualquier modificación sobre los valores numéricos de la matriz para manipular la imagen. \n",
    "\n",
    "Por ejemplo podríamos modificar todo un canal por completo y alterar los contenidos de color."
   ]
  },
  {
   "cell_type": "code",
   "execution_count": null,
   "id": "7dccb04b",
   "metadata": {},
   "outputs": [],
   "source": [
    "# Como vimos previamente, la imagen contiene 3 canales.\n",
    "# miremos que pasa si 'apagamos' dos de ellos\n",
    "img_modificada=np.copy(img[idx])\n",
    "img_modificada[:,:,0]=0\n",
    "img_modificada[:,:,1]=0\n",
    "view(img_modificada)"
   ]
  },
  {
   "cell_type": "code",
   "execution_count": 23,
   "id": "4b0f1c48",
   "metadata": {},
   "outputs": [],
   "source": [
    "#Podemos combinar y sacar el promedio de BGR\n",
    "img_modificada=np.copy(img[idx])\n",
    "promedio=np.mean(img_modificada,2)\n",
    "img_modificada[:,:,0]=promedio\n",
    "img_modificada[:,:,1]=promedio\n",
    "img_modificada[:,:,2]=promedio\n",
    "view(img_modificada)"
   ]
  },
  {
   "cell_type": "code",
   "execution_count": 24,
   "id": "e5064099",
   "metadata": {},
   "outputs": [],
   "source": [
    "#Este proceso es equivalente a usar la transformación COLOR_BGR2GRAY\n",
    "gris = cv2.cvtColor(img[idx], cv2.COLOR_BGR2GRAY)\n",
    "view(gris)"
   ]
  },
  {
   "cell_type": "markdown",
   "id": "f4dfc74b",
   "metadata": {},
   "source": [
    "## 1.5. Redimensionamiento\n",
    "\n",
    "Para cambiar el tamaño de una imagen utilizando OpenCV. Primero, se define `nuevo_tamano` como una tupla que especifica las nuevas dimensiones deseadas para la imagen, en este caso, 1200 píxeles de ancho por 600 píxeles de alto. Luego, se utiliza la función `cv2.resize()` para redimensionar efectivamente la imagen \n",
    "Este procedimiento es útil cuando necesitamos ajustar las dimensiones de nuestras imágenes para diferentes aplicaciones."
   ]
  },
  {
   "cell_type": "code",
   "execution_count": 21,
   "id": "38e6f168",
   "metadata": {},
   "outputs": [],
   "source": [
    "nuevo_tamano = (1200, 600) # Ancho x Alto en pixeles\n",
    "imagen_redimensionada = cv2.resize(img[idx], nuevo_tamano)\n",
    "# Verificar el cambio mostrándola \n",
    "view(imagen_redimensionada)"
   ]
  },
  {
   "cell_type": "markdown",
   "id": "4ef999c8",
   "metadata": {},
   "source": [
    "## 1.6. Transformaciones afines\n",
    "\n",
    "Una transformación afín es un tipo de operación en el procesamiento de imágenes y gráficos por computadora que altera la geometría de la imagen. Incluye rotaciones, traslaciones (movimientos), escalado (cambio de tamaño) y cizallamiento. Lo interesante de las transformaciones afines es que preservan puntos, rectas y planos. Las paralelas en el objeto original seguirán siendo paralelas en el objeto transformado.\n",
    "\n"
   ]
  },
  {
   "cell_type": "code",
   "execution_count": 25,
   "id": "2fe43be4",
   "metadata": {},
   "outputs": [],
   "source": [
    "# Obtener dimensiones de la imagen\n",
    "alto, ancho = img[idx].shape[:2]\n",
    "# Calcular el centro de la imagen \n",
    "centro = (ancho // 2, alto // 2)\n",
    "\n",
    "# Generar la matriz de rotación.\n",
    "# Aquí, estamos rotando la imagen 45 grados alrededor del centro sin cambiar su escala.\n",
    "matriz_rotacion = cv2.getRotationMatrix2D(centro, 45, 1.0)\n",
    "\n",
    "# Realizar la rotación\n",
    "imagen_rotada = cv2.warpAffine(img[idx], matriz_rotacion, (ancho, alto))\n",
    "\n",
    "view(imagen_rotada)"
   ]
  },
  {
   "cell_type": "code",
   "execution_count": 26,
   "id": "c3b8797d",
   "metadata": {},
   "outputs": [],
   "source": [
    "# Definir la matriz de traslación\n",
    "M = np.float32([[1, 0, 200], [0, 1, 50]]) # Moverá la imagen 200 pixeles a la derecha y 50 pixeles hacia abajo.\n",
    "\n",
    "trasladada = cv2.warpAffine(img[idx], M, (ancho, alto))\n",
    "view(trasladada)"
   ]
  },
  {
   "cell_type": "markdown",
   "id": "33a0b69f",
   "metadata": {},
   "source": [
    "## 1.8. Detección de bordes\n",
    "\n",
    "La detección de bordes es una técnica fundamental en el procesamiento de imágenes y la visión por computadora que se enfoca en identificar los puntos dentro de una imagen donde ocurre un cambio brusco o discontinuidad en la intensidad (brillo) o color. Estos cambios abruptos suelen corresponder a los límites o contornos de objetos dentro de la escena, lo cual hace a la detección de bordes especialmente útil para comprender mejor la estructura básica y las características distintivas presentes en una imagen.\n",
    "\n",
    "Los bordes son importantes porque marcan las fronteras entre diferentes regiones y objetos, permitiendo al sistema distinguir entre fondos y elementos destacados, así como entender mejor formas, tamaños y otras propiedades geométricas. En términos prácticos, detectar correctamente estos bordes facilita tareas posteriores como el seguimiento de objetos, reconocimiento facial, segmentación semántica e incluso operaciones más avanzadas como reconstrucciones 3D a partir de múltiples imágenes."
   ]
  },
  {
   "cell_type": "code",
   "execution_count": 27,
   "id": "3a913ed9",
   "metadata": {},
   "outputs": [],
   "source": [
    "# Los bordes de una imagen se relacionan con los pixeles donde el gradiente es alto.\n",
    "gris = cv2.cvtColor(img[idx], cv2.COLOR_BGR2GRAY)\n",
    "gradiente_x,gradiente_y=np.gradient(gris) #Calculamos el gradiente en x e y\n",
    "mag_gradiente=np.sqrt(gradiente_x**2+gradiente_y**2)\n",
    "view(mag_gradiente/np.max(mag_gradiente)) #Graficamos normalizando con la magnitud máxima\n",
    "# OpenCV soporta floats, en cuyo caso los pixeles admiten valores entre 0 y 1.0"
   ]
  },
  {
   "cell_type": "code",
   "execution_count": 28,
   "id": "81adf84c",
   "metadata": {},
   "outputs": [],
   "source": [
    "# Existe un método que utiliza tanto la magnitud como la dirección del gradiente para obtener los bordes\n",
    "# Este método entrega una matriz binaria (1|0 clasificando pixeles si es o no borde)\n",
    "bordes_canny = cv2.Canny(img[idx],100 ,150) \n",
    "view(bordes_canny)"
   ]
  },
  {
   "cell_type": "markdown",
   "id": "ec010943",
   "metadata": {},
   "source": [
    "## 1.9. Dibujar sobre la imagen"
   ]
  },
  {
   "cell_type": "code",
   "execution_count": 29,
   "id": "0747a65d",
   "metadata": {},
   "outputs": [],
   "source": [
    "imagen_con_rectangulo = cv2.rectangle(np.copy(img[idx]), (centro[0]-50, centro[1]-50), (centro[0]+50, centro[1]+50), (255,0 ,0), thickness=3)\n",
    "view(imagen_con_rectangulo)"
   ]
  },
  {
   "cell_type": "markdown",
   "id": "7ff3123b",
   "metadata": {},
   "source": [
    "## 1.10. Modificar y guardar imágenes"
   ]
  },
  {
   "cell_type": "code",
   "execution_count": 30,
   "id": "f544c3fa",
   "metadata": {},
   "outputs": [
    {
     "data": {
      "text/plain": [
       "True"
      ]
     },
     "execution_count": 30,
     "metadata": {},
     "output_type": "execute_result"
    }
   ],
   "source": [
    "# Apliquemos varias manipulaciones sobre la imagen y guardemos el resultado en un nuevo archivo\n",
    "gris = cv2.cvtColor(img[idx], cv2.COLOR_BGR2GRAY)\n",
    "gradiente_x,gradiente_y=np.gradient(gris) #Calculamos el gradiente en x e y\n",
    "mag_gradiente=np.sqrt(gradiente_x**2+gradiente_y**2)\n",
    "mag_gradiente_normalizado=mag_gradiente/np.max(mag_gradiente)\n",
    "\n",
    "c=1-mag_gradiente_normalizado\n",
    "c=c[:,:,np.newaxis]\n",
    "c=np.tile(c,(1,1,3))\n",
    "\n",
    "imagen_modificada=(img[idx]*c).astype(np.uint8)\n",
    "view(imagen_modificada)\n",
    "cv2.imwrite('imagen_modificada.jpg', imagen_modificada)\n",
    "\n",
    "#Compare las imagenes y explique la diferencia visual en relación al código"
   ]
  }
 ],
 "metadata": {
  "kernelspec": {
   "display_name": "Python 3 (ipykernel)",
   "language": "python",
   "name": "python3"
  },
  "language_info": {
   "codemirror_mode": {
    "name": "ipython",
    "version": 3
   },
   "file_extension": ".py",
   "mimetype": "text/x-python",
   "name": "python",
   "nbconvert_exporter": "python",
   "pygments_lexer": "ipython3",
   "version": "3.11.2"
  }
 },
 "nbformat": 4,
 "nbformat_minor": 5
}
