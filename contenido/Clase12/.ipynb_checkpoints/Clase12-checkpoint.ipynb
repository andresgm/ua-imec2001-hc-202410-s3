{
 "cells": [
  {
   "cell_type": "markdown",
   "id": "569cbdec",
   "metadata": {},
   "source": [
    "# IMEC2001 Herramientas Computacionales \n",
    "## Clase 12 - Procesamiento de imágenes\n",
    "\n",
    "\n",
    "## TABLA DE CONTENIDO\n",
    "\n",
    "- 1.1. Cargar Librerías\n",
    "- 1.2. Descargar y cargar imágenes\n",
    "- 1.3. Contenido de una imágen\n",
    "- 1.4. Visualización\n",
    "- 1.6. Modificar canales\n",
    "- 1.5. Redimensionamiento\n",
    "- 1.6. Transformaciones afines\n",
    "- 1.7. Detección de bordes\n",
    "- 1.8. Dibujar sobre la imagen\n",
    "- 1.9. Modificar y guardar imágenes\n",
    "\n",
    "En esta clase se exploran varias técnicas y operaciones fundamentales con OpenCV que permitirán comenzar a trabajar en el procesamiento y análisis de imágenes.\n",
    "Este cuaderno cubre la manipulación básica hasta conceptos más avanzados como detección de contornos y transformaciones morfológicas. \n"
   ]
  },
  {
   "cell_type": "markdown",
   "id": "db3d5d2b",
   "metadata": {},
   "source": [
    "## 1.1. Cargar Librerías\n",
    "\n",
    "OpenCV es una biblioteca muy poderosa con muchas más funcionalidades. En este cuaderno vamos a experimentar con diferentes funciones que ayudan a comprender mejor cómo se constiuye una imagen en cuanto a su estructura de datos y la aplicón de herramientas para su manipulación."
   ]
  },
  {
   "cell_type": "code",
   "execution_count": 16,
   "id": "aed68077",
   "metadata": {},
   "outputs": [
    {
     "name": "stdout",
     "output_type": "stream",
     "text": [
      "Requirement already satisfied: pywget in c:\\users\\jcl00\\pyenvs\\math\\lib\\site-packages (0.31)\n"
     ]
    },
    {
     "name": "stderr",
     "output_type": "stream",
     "text": [
      "\n",
      "[notice] A new release of pip is available: 23.3.2 -> 24.0\n",
      "[notice] To update, run: python.exe -m pip install --upgrade pip\n"
     ]
    },
    {
     "name": "stdout",
     "output_type": "stream",
     "text": [
      "Requirement already satisfied: opencv-python in c:\\users\\jcl00\\pyenvs\\math\\lib\\site-packages (4.9.0.80)\n",
      "Requirement already satisfied: numpy>=1.21.2 in c:\\users\\jcl00\\pyenvs\\math\\lib\\site-packages (from opencv-python) (1.24.2)\n"
     ]
    },
    {
     "name": "stderr",
     "output_type": "stream",
     "text": [
      "\n",
      "[notice] A new release of pip is available: 23.3.2 -> 24.0\n",
      "[notice] To update, run: python.exe -m pip install --upgrade pip\n"
     ]
    }
   ],
   "source": [
    "!pip install pywget\n",
    "!pip install opencv-python"
   ]
  },
  {
   "cell_type": "code",
   "execution_count": 17,
   "id": "54698687",
   "metadata": {},
   "outputs": [],
   "source": [
    "from pywget import wget\n",
    "import cv2\n",
    "import glob\n",
    "import numpy as np"
   ]
  },
  {
   "cell_type": "markdown",
   "id": "540ae6f7",
   "metadata": {},
   "source": [
    "## 1.2. Descargar y cargar imágenes\n",
    "\n",
    "Se pueden descargar imágenes directamente desde la web a través de su URL. \n",
    "En esta celda tenemos una lista de links a imágenes y se utiliza el paquete pywget para descargarlas.\n",
    "También se utiliza el paquete glob para poder revisar los archivos jpg en el directorio de trabajo."
   ]
  },
  {
   "cell_type": "code",
   "execution_count": 18,
   "id": "4b4c883d",
   "metadata": {},
   "outputs": [],
   "source": [
    "img_url=list()\n",
    "img_url.append('https://i.pinimg.com/originals/5b/a1/98/5ba198c583f798939869ca854017ce4d.jpg')\n",
    "img_url.append('https://khpet.com/cdn/shop/articles/when-do-puppies-start-walking_800x800.jpg?v=1593020034')\n",
    "img_url.append('https://i.pinimg.com/736x/a2/41/bf/a241bf580bd666a05de1fa3b53f973e7.jpg')\n",
    "\n",
    "#Descargemos algunas imágenes desde la web\n",
    "if not glob.glob('./*.jpg'):\n",
    "    for url in img_url:\n",
    "        file=wget.download(url)        \n",
    "img=[]\n",
    "for file in glob.glob('./*.jpg'):\n",
    "    img.append(cv2.imread(file))\n",
    "    \n",
    "#img contiene una lista de imagenes (pixeles)\n",
    "\n",
    "    "
   ]
  },
  {
   "cell_type": "markdown",
   "id": "a1bc2f3d",
   "metadata": {},
   "source": [
    "## 1.3. Contenido de una imágen\n",
    "\n",
    "Una imagen digital se representa comúnmente como una matriz tridimensional de valores numéricos. Estos valores representan los píxeles que conforman la imagen. La forma en que estos píxeles están organizados y el significado detrás de sus valores depende del espacio de color utilizado por la imagen.\n",
    "\n",
    "Los pixeles son la unidad básica programable con información visual en una pantalla digital o en este caso, dentro de una matriz que constituye una imagen digital. Cada pixel contiene datos sobre el brillo y posiblemente también sobre el color que debe representarse en ese punto específico de la imagen.\n",
    "\n",
    "En OpenCV, el espacio de color predeterminado para las imágenes es BGR, lo cual significa Azul (Blue), Verde (Green) y Rojo (Red). Esto difiere del más conocido RGB porque simplemente invierte el orden de los canales rojo y azul.\n",
    "\n",
    "Cada pixel en una imagen BGR está compuesto por tres componentes o canales:\n",
    "\n",
    "- **B** (Azul): El primer canal representa la intensidad del color azul.\n",
    "- **G** (Verde): El segundo canal representa la intensidad del color verde.\n",
    "- **R** (Rojo): El tercer canal representa la intensidad del color rojo.\n",
    "\n",
    "Por ejemplo, un pixel específico en una imagen podría tener un valor expresado como `[255, 0, 0]`. En formato BGR esto significaría que dicho pixel es completamente azul (`255` para azul), sin ninguna contribución verde (`0` para verde) ni roja (`0` para rojo).\n",
    "\n"
   ]
  },
  {
   "cell_type": "code",
   "execution_count": 33,
   "id": "393691bb",
   "metadata": {},
   "outputs": [
    {
     "name": "stdout",
     "output_type": "stream",
     "text": [
      "Shape:(570, 800, 3)\n",
      "[[[ 51  50  40]\n",
      "  [ 51  50  40]\n",
      "  [ 50  50  38]\n",
      "  ...\n",
      "  [ 36  44  33]\n",
      "  [ 35  44  34]\n",
      "  [ 35  44  34]]\n",
      "\n",
      " [[ 51  50  40]\n",
      "  [ 51  50  40]\n",
      "  [ 50  50  38]\n",
      "  ...\n",
      "  [ 36  44  33]\n",
      "  [ 35  44  34]\n",
      "  [ 35  44  34]]\n",
      "\n",
      " [[ 52  50  39]\n",
      "  [ 51  49  38]\n",
      "  [ 50  48  37]\n",
      "  ...\n",
      "  [ 36  44  33]\n",
      "  [ 35  44  34]\n",
      "  [ 35  44  34]]\n",
      "\n",
      " ...\n",
      "\n",
      " [[143 179 185]\n",
      "  [143 181 186]\n",
      "  [144 182 187]\n",
      "  ...\n",
      "  [156 195 174]\n",
      "  [149 195 172]\n",
      "  [143 194 167]]\n",
      "\n",
      " [[142 180 184]\n",
      "  [136 176 181]\n",
      "  [136 175 183]\n",
      "  ...\n",
      "  [153 194 167]\n",
      "  [147 192 165]\n",
      "  [142 190 161]]\n",
      "\n",
      " [[142 180 184]\n",
      "  [136 176 181]\n",
      "  [136 175 183]\n",
      "  ...\n",
      "  [153 194 167]\n",
      "  [147 192 165]\n",
      "  [142 190 161]]]\n"
     ]
    }
   ],
   "source": [
    "#Miremos una de las imagenes para entender su contenido\n",
    "idx=2\n",
    "print('Shape:{}'.format(img[idx].shape))\n",
    "# Los dos primeros indices representan el pixel i,j \n",
    "# el último indice representa el canal (BGR)\n",
    "print(img[idx])"
   ]
  },
  {
   "cell_type": "markdown",
   "id": "c55c1f2f",
   "metadata": {},
   "source": [
    "## 1.4. Visualización\n",
    "La visualización de una matriz de imagen se puede hacer con el comando `cv2.imshow`\n",
    "\n",
    "Siempre que se abran las ventanas de imshow se deben cerrar usando `cv.destroyAllWindows()` para no bloquear el proceso del kernel.\n",
    "\n",
    "Entonces utilizamos el comando `waitKey()` para esperar una entrada cualquiera del usuario antes de cerrar la ventana."
   ]
  },
  {
   "cell_type": "code",
   "execution_count": 35,
   "id": "9f70722d",
   "metadata": {},
   "outputs": [],
   "source": [
    "#Visualizemos la imagen\n",
    "cv2.imshow('Imagen', img[idx])\n",
    "cv2.waitKey(0) # Espera hasta que se presione alguna tecla para continuar\n",
    "cv2.destroyAllWindows() # Cierra todas las ventanas abiertas por OpenCV\n",
    "\n",
    "def view(img):\n",
    "    cv2.imshow(\"Imagen Redimensionada\", img)\n",
    "    cv2.waitKey(0)\n",
    "    cv2.destroyAllWindows()"
   ]
  },
  {
   "cell_type": "markdown",
   "id": "5edb0ecc",
   "metadata": {},
   "source": [
    "## 1.6. Modificar canales\n",
    "\n",
    "Siendo la imagen una matriz (W,H,channels) podemos utilizar cualquier modificación sobre los valores numéricos de la matriz para manipular la imagen. \n",
    "\n",
    "Por ejemplo podríamos modificar todo un canal por completo y alterar los contenidos de color."
   ]
  },
  {
   "cell_type": "code",
   "execution_count": 37,
   "id": "7dccb04b",
   "metadata": {},
   "outputs": [],
   "source": [
    "# Como vimos previamente, la imagen contiene 3 canales.\n",
    "# miremos que pasa si 'apagamos' dos de ellos\n",
    "img_modificada=np.copy(img[idx])\n",
    "img_modificada[:,:,0]=0\n",
    "img_modificada[:,:,1]=0\n",
    "view(img_modificada)"
   ]
  },
  {
   "cell_type": "code",
   "execution_count": 23,
   "id": "4b0f1c48",
   "metadata": {},
   "outputs": [],
   "source": [
    "#Podemos combinar y sacar el promedio de BGR\n",
    "img_modificada=np.copy(img[idx])\n",
    "promedio=np.mean(img_modificada,2)\n",
    "img_modificada[:,:,0]=promedio\n",
    "img_modificada[:,:,1]=promedio\n",
    "img_modificada[:,:,2]=promedio\n",
    "view(img_modificada)"
   ]
  },
  {
   "cell_type": "code",
   "execution_count": 24,
   "id": "e5064099",
   "metadata": {},
   "outputs": [],
   "source": [
    "#Este proceso es equivalente a usar la transformación COLOR_BGR2GRAY\n",
    "gris = cv2.cvtColor(img[idx], cv2.COLOR_BGR2GRAY)\n",
    "view(gris)"
   ]
  },
  {
   "cell_type": "markdown",
   "id": "f4dfc74b",
   "metadata": {},
   "source": [
    "## 1.5. Redimensionamiento\n",
    "\n",
    "Para cambiar el tamaño de una imagen utilizando OpenCV. Primero, se define `nuevo_tamano` como una tupla que especifica las nuevas dimensiones deseadas para la imagen, en este caso, 1200 píxeles de ancho por 600 píxeles de alto. Luego, se utiliza la función `cv2.resize()` para redimensionar efectivamente la imagen \n",
    "Este procedimiento es útil cuando necesitamos ajustar las dimensiones de nuestras imágenes para diferentes aplicaciones."
   ]
  },
  {
   "cell_type": "code",
   "execution_count": 21,
   "id": "38e6f168",
   "metadata": {},
   "outputs": [],
   "source": [
    "nuevo_tamano = (1200, 600) # Ancho x Alto en pixeles\n",
    "imagen_redimensionada = cv2.resize(img[idx], nuevo_tamano)\n",
    "# Verificar el cambio mostrándola \n",
    "view(imagen_redimensionada)"
   ]
  },
  {
   "cell_type": "markdown",
   "id": "4ef999c8",
   "metadata": {},
   "source": [
    "## 1.6. Transformaciones afines\n",
    "\n",
    "Una transformación afín es un tipo de operación en el procesamiento de imágenes y gráficos por computadora que altera la geometría de la imagen. Incluye rotaciones, traslaciones (movimientos), escalado (cambio de tamaño) y cizallamiento. Lo interesante de las transformaciones afines es que preservan puntos, rectas y planos. Las paralelas en el objeto original seguirán siendo paralelas en el objeto transformado.\n",
    "\n"
   ]
  },
  {
   "cell_type": "code",
   "execution_count": 25,
   "id": "2fe43be4",
   "metadata": {},
   "outputs": [],
   "source": [
    "# Obtener dimensiones de la imagen\n",
    "alto, ancho = img[idx].shape[:2]\n",
    "# Calcular el centro de la imagen \n",
    "centro = (ancho // 2, alto // 2)\n",
    "\n",
    "# Generar la matriz de rotación.\n",
    "# Aquí, estamos rotando la imagen 45 grados alrededor del centro sin cambiar su escala.\n",
    "matriz_rotacion = cv2.getRotationMatrix2D(centro, 45, 1.0)\n",
    "\n",
    "# Realizar la rotación\n",
    "imagen_rotada = cv2.warpAffine(img[idx], matriz_rotacion, (ancho, alto))\n",
    "\n",
    "view(imagen_rotada)"
   ]
  },
  {
   "cell_type": "code",
   "execution_count": 26,
   "id": "c3b8797d",
   "metadata": {},
   "outputs": [],
   "source": [
    "# Definir la matriz de traslación\n",
    "M = np.float32([[1, 0, 200], [0, 1, 50]]) # Moverá la imagen 200 pixeles a la derecha y 50 pixeles hacia abajo.\n",
    "\n",
    "trasladada = cv2.warpAffine(img[idx], M, (ancho, alto))\n",
    "view(trasladada)"
   ]
  },
  {
   "cell_type": "markdown",
   "id": "33a0b69f",
   "metadata": {},
   "source": [
    "## 1.8. Detección de bordes\n",
    "\n",
    "La detección de bordes es una técnica fundamental en el procesamiento de imágenes y la visión por computadora que se enfoca en identificar los puntos dentro de una imagen donde ocurre un cambio brusco o discontinuidad en la intensidad (brillo) o color. Estos cambios abruptos suelen corresponder a los límites o contornos de objetos dentro de la escena, lo cual hace a la detección de bordes especialmente útil para comprender mejor la estructura básica y las características distintivas presentes en una imagen.\n",
    "\n",
    "Los bordes son importantes porque marcan las fronteras entre diferentes regiones y objetos, permitiendo al sistema distinguir entre fondos y elementos destacados, así como entender mejor formas, tamaños y otras propiedades geométricas. En términos prácticos, detectar correctamente estos bordes facilita tareas posteriores como el seguimiento de objetos, reconocimiento facial, segmentación semántica e incluso operaciones más avanzadas como reconstrucciones 3D a partir de múltiples imágenes."
   ]
  },
  {
   "cell_type": "code",
   "execution_count": 27,
   "id": "3a913ed9",
   "metadata": {},
   "outputs": [],
   "source": [
    "# Los bordes de una imagen se relacionan con los pixeles donde el gradiente es alto.\n",
    "gris = cv2.cvtColor(img[idx], cv2.COLOR_BGR2GRAY)\n",
    "gradiente_x,gradiente_y=np.gradient(gris) #Calculamos el gradiente en x e y\n",
    "mag_gradiente=np.sqrt(gradiente_x**2+gradiente_y**2)\n",
    "view(mag_gradiente/np.max(mag_gradiente)) #Graficamos normalizando con la magnitud máxima\n",
    "# OpenCV soporta floats, en cuyo caso los pixeles admiten valores entre 0 y 1.0"
   ]
  },
  {
   "cell_type": "code",
   "execution_count": 28,
   "id": "81adf84c",
   "metadata": {},
   "outputs": [],
   "source": [
    "# Existe un método que utiliza tanto la magnitud como la dirección del gradiente para obtener los bordes\n",
    "# Este método entrega una matriz binaria (1|0 clasificando pixeles si es o no borde)\n",
    "bordes_canny = cv2.Canny(img[idx],100 ,150) \n",
    "view(bordes_canny)"
   ]
  },
  {
   "cell_type": "markdown",
   "id": "ec010943",
   "metadata": {},
   "source": [
    "## 1.9. Dibujar sobre la imagen"
   ]
  },
  {
   "cell_type": "code",
   "execution_count": 29,
   "id": "0747a65d",
   "metadata": {},
   "outputs": [],
   "source": [
    "imagen_con_rectangulo = cv2.rectangle(np.copy(img[idx]), (centro[0]-50, centro[1]-50), (centro[0]+50, centro[1]+50), (255,0 ,0), thickness=3)\n",
    "view(imagen_con_rectangulo)"
   ]
  },
  {
   "cell_type": "markdown",
   "id": "7ff3123b",
   "metadata": {},
   "source": [
    "## 1.10. Modificar y guardar imágenes"
   ]
  },
  {
   "cell_type": "code",
   "execution_count": 30,
   "id": "f544c3fa",
   "metadata": {},
   "outputs": [
    {
     "data": {
      "text/plain": [
       "True"
      ]
     },
     "execution_count": 30,
     "metadata": {},
     "output_type": "execute_result"
    }
   ],
   "source": [
    "# Apliquemos varias manipulaciones sobre la imagen y guardemos el resultado en un nuevo archivo\n",
    "gris = cv2.cvtColor(img[idx], cv2.COLOR_BGR2GRAY)\n",
    "gradiente_x,gradiente_y=np.gradient(gris) #Calculamos el gradiente en x e y\n",
    "mag_gradiente=np.sqrt(gradiente_x**2+gradiente_y**2)\n",
    "mag_gradiente_normalizado=mag_gradiente/np.max(mag_gradiente)\n",
    "\n",
    "c=1-mag_gradiente_normalizado\n",
    "c=c[:,:,np.newaxis]\n",
    "c=np.tile(c,(1,1,3))\n",
    "\n",
    "imagen_modificada=(img[idx]*c).astype(np.uint8)\n",
    "view(imagen_modificada)\n",
    "cv2.imwrite('imagen_modificada.jpg', imagen_modificada)\n",
    "\n",
    "#Compare las imagenes y explique la diferencia visual en relación al código"
   ]
  }
 ],
 "metadata": {
  "kernelspec": {
   "display_name": "Python 3 (ipykernel)",
   "language": "python",
   "name": "python3"
  },
  "language_info": {
   "codemirror_mode": {
    "name": "ipython",
    "version": 3
   },
   "file_extension": ".py",
   "mimetype": "text/x-python",
   "name": "python",
   "nbconvert_exporter": "python",
   "pygments_lexer": "ipython3",
   "version": "3.11.0"
  }
 },
 "nbformat": 4,
 "nbformat_minor": 5
}
