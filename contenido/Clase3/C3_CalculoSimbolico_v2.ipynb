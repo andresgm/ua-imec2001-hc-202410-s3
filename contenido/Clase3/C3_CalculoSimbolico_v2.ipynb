{
 "cells": [
  {
   "cell_type": "markdown",
   "metadata": {},
   "source": [
    "# IMEC2001 Herramientas Computacionales \n",
    "## Clase 3 - Derivación e integración simbólica\n",
    "\n",
    "---\n",
    "\n",
    "## TABLA DE CONTENIDO\n",
    "\n",
    "\n",
    "- 1. Concepto de objeto\n",
    "- 2. Cargar Librerías sympy\n",
    "- 3. Objeto symbol\n",
    "- 4. Operaciones matemáticas y expresiones simbólicas\n",
    "- 5. Diferenciación\n",
    "- 6. Integración\n",
    "- 7. Evaluación numérica"
   ]
  },
  {
   "cell_type": "markdown",
   "metadata": {},
   "source": [
    "<a id=\"section1\"></a>\n",
    "# Sección 1: OOP(Oriented Object Programming)"
   ]
  },
  {
   "cell_type": "markdown",
   "metadata": {},
   "source": [
    "## 1. Concepto de Objeto\n",
    "\n",
    "Un objeto es una collección de variables y métodos.\n",
    "Estas variables y métodos se definen a través de una 'clase' que especifica la descripción de los objetos que comparten un mismo tipo."
   ]
  },
  {
   "cell_type": "code",
   "execution_count": 1,
   "metadata": {},
   "outputs": [],
   "source": [
    "class Estudiante:\n",
    "    nombre = \"\"\n",
    "    apellido = \"\"\n",
    "    cursoFavorito= \"\"\n",
    "    calculosVistos=[]"
   ]
  },
  {
   "cell_type": "markdown",
   "metadata": {},
   "source": [
    "Esta clase definió unicamente variables para un estudiante"
   ]
  },
  {
   "cell_type": "code",
   "execution_count": 2,
   "metadata": {},
   "outputs": [
    {
     "data": {
      "text/plain": [
       "__main__.Estudiante"
      ]
     },
     "execution_count": 2,
     "metadata": {},
     "output_type": "execute_result"
    }
   ],
   "source": [
    "#Podemos crear un objeto de tipo estudiante:\n",
    "juan=Estudiante()\n",
    "type(juan)"
   ]
  },
  {
   "cell_type": "code",
   "execution_count": 3,
   "metadata": {},
   "outputs": [
    {
     "name": "stdout",
     "output_type": "stream",
     "text": [
      "hola, mi nombre es Juan Lopez, mi curso favorito es Herramientas Computacionales\n",
      "hola, mi nombre es Jonathan Camargo, mi curso favorito es Soft Robotics\n",
      "Juan puede ver extracreditos: False\n",
      "Ana puede ver extracreditos: True\n"
     ]
    }
   ],
   "source": [
    "#Podemos extender la clase Estudiante para incluir methodos.\n",
    "#El método init es el \"constructor\" de la clase, el cual nos sirve  para construir nuevos objetos del tipo Estudiante\n",
    "# a través de pasar algunos argumentos.\n",
    "class Estudiante:\n",
    "    nombre = \"\"\n",
    "    apellido = \"\"\n",
    "    cursoFavorito= \"\"\n",
    "    promedio=0\n",
    "\n",
    "    def __init__(self,nombre,apellido,cursoFavorito,promedio):\n",
    "        self.nombre=nombre\n",
    "        self.apellido=apellido\n",
    "        self.cursoFavorito=cursoFavorito\n",
    "        self.promedio=promedio\n",
    "\n",
    "    def saluda(self):\n",
    "        print('hola, mi nombre es {} {}, mi curso favorito es {}'.format(self.nombre,self.apellido,self.cursoFavorito))\n",
    "    \n",
    "    def validarExtracreditacion(self):\n",
    "        #Los métodos de una clase también pueden generar retornos\n",
    "        if self.promedio>=4.0:\n",
    "            return True\n",
    "        else:\n",
    "            return False\n",
    "\n",
    "juan=Estudiante('Juan','Lopez','Herramientas Computacionales',3.8)\n",
    "ana=Estudiante('Jonathan','Camargo','Soft Robotics',4.1)\n",
    "juan.saluda()\n",
    "ana.saluda()\n",
    "print(\"Juan puede ver extracreditos: {}\".format(juan.validarExtracreditacion()))\n",
    "print(\"Ana puede ver extracreditos: {}\".format(ana.validarExtracreditacion()))"
   ]
  },
  {
   "cell_type": "markdown",
   "metadata": {},
   "source": [
    "Casi todas las librerías que utilizan en python están hechas a partir de clases (\"class\") definiendo variables y métodos internos a la clase. Por ejemplo la librería sympy que utilizaremos a continuación."
   ]
  },
  {
   "cell_type": "markdown",
   "metadata": {},
   "source": [
    "## 2. Cargar Librería sympy"
   ]
  },
  {
   "cell_type": "markdown",
   "metadata": {},
   "source": [
    "## Primero instalar sympy \n",
    "\n",
    "Por ejemplo, en el terminal puede usar el comando:\n",
    "\n",
    "```terminal\n",
    "conda install sympy\n",
    "```\n"
   ]
  },
  {
   "cell_type": "code",
   "execution_count": 4,
   "metadata": {},
   "outputs": [],
   "source": [
    "import sympy\n",
    "from sympy import symbols\n",
    "# Utilizaremos symbols el cual es una función que nos permite crear objetos para álgebra simbólica"
   ]
  },
  {
   "cell_type": "markdown",
   "metadata": {},
   "source": [
    "## 3. Objeto symbol"
   ]
  },
  {
   "cell_type": "code",
   "execution_count": 6,
   "metadata": {},
   "outputs": [],
   "source": [
    "#Creamos una variable simbólica 'a' y una variable 'b'\n",
    "a=symbols('a')\n",
    "b=symbols('b')\n",
    "\n",
    "#Podemos construir expresiones a partir de los simbolos a y b\n",
    "expr=a+b\n"
   ]
  },
  {
   "cell_type": "markdown",
   "metadata": {},
   "source": [
    "#Manipular expresiones operando\n",
    "expr**2"
   ]
  },
  {
   "cell_type": "code",
   "execution_count": 7,
   "metadata": {},
   "outputs": [
    {
     "data": {
      "text/latex": [
       "$\\displaystyle b + \\frac{1}{b}$"
      ],
      "text/plain": [
       "b + 1/b"
      ]
     },
     "execution_count": 7,
     "metadata": {},
     "output_type": "execute_result"
    }
   ],
   "source": [
    "#Manipular expresiones substituyendo variables por otra expresión\n",
    "expr.subs({a:b**-1})"
   ]
  },
  {
   "cell_type": "code",
   "execution_count": 16,
   "metadata": {},
   "outputs": [
    {
     "data": {
      "text/latex": [
       "$\\displaystyle 1.0$"
      ],
      "text/plain": [
       "1.00000000000000"
      ]
     },
     "execution_count": 16,
     "metadata": {},
     "output_type": "execute_result"
    }
   ],
   "source": [
    "pi = sympy.pi\n",
    "x = symbols('x')\n",
    "expr = sympy.sin(2*x) + sympy.cos(2*x)\n",
    "expr.evalf(subs={x:pi/4})"
   ]
  },
  {
   "cell_type": "markdown",
   "metadata": {},
   "source": [
    "Vea toda la documentación de sympy <a href=\"https://docs.sympy.org/latest/tutorials/intro-tutorial/features.html\">aqui</a>"
   ]
  },
  {
   "cell_type": "markdown",
   "metadata": {},
   "source": [
    "## 4. Operaciones matemáticas y expresiones simbólicas\n",
    "\n",
    "Continuemos creando expresiones y manipulandolas"
   ]
  },
  {
   "cell_type": "code",
   "execution_count": 11,
   "metadata": {},
   "outputs": [
    {
     "data": {
      "text/latex": [
       "$\\displaystyle r_{1}^{2} \\sin^{2}{\\left(\\theta \\right)} + r_{2}^{2} \\cos^{2}{\\left(\\theta \\right)}$"
      ],
      "text/plain": [
       "r_1**2*sin(theta)**2 + r_2**2*cos(theta)**2"
      ]
     },
     "execution_count": 11,
     "metadata": {},
     "output_type": "execute_result"
    }
   ],
   "source": [
    "from sympy import sin,cos\n",
    "\n",
    "#Podemos crear varios simbolos a la vez\n",
    "[theta,alpha,r_1,r_2]=symbols('theta,alpha,r_1,r_2')\n",
    "\n",
    "expr1=r_1*sin(theta)\n",
    "expr2=r_2*cos(theta)\n",
    "\n",
    "expr3=expr1**2+expr2**2\n",
    "expr3"
   ]
  },
  {
   "cell_type": "code",
   "execution_count": 12,
   "metadata": {},
   "outputs": [
    {
     "data": {
      "text/latex": [
       "$\\displaystyle r_{2}^{2} \\sin^{2}{\\left(\\theta \\right)} + r_{2}^{2} \\cos^{2}{\\left(\\theta \\right)}$"
      ],
      "text/plain": [
       "r_2**2*sin(theta)**2 + r_2**2*cos(theta)**2"
      ]
     },
     "execution_count": 12,
     "metadata": {},
     "output_type": "execute_result"
    }
   ],
   "source": [
    "#Que pasa si r1=r2?\n",
    "expr3.subs({r_1:r_2})"
   ]
  },
  {
   "cell_type": "code",
   "execution_count": 13,
   "metadata": {},
   "outputs": [
    {
     "data": {
      "text/latex": [
       "$\\displaystyle r_{2}^{2}$"
      ],
      "text/plain": [
       "r_2**2"
      ]
     },
     "execution_count": 13,
     "metadata": {},
     "output_type": "execute_result"
    }
   ],
   "source": [
    "#El sistema CAS reemplaza la variable, pero claramente podríamos simplificar\n",
    "expr4=expr3.subs({r_1:r_2})\n",
    "expr4.simplify()"
   ]
  },
  {
   "cell_type": "code",
   "execution_count": 14,
   "metadata": {},
   "outputs": [
    {
     "data": {
      "text/latex": [
       "$\\displaystyle r_{2}^{2}$"
      ],
      "text/plain": [
       "r_2**2"
      ]
     },
     "execution_count": 14,
     "metadata": {},
     "output_type": "execute_result"
    }
   ],
   "source": [
    "#Esto lo podríamos hacer sin asignar una nueva variable expr4\n",
    "expr3.subs({r_1:r_2}).simplify()"
   ]
  },
  {
   "cell_type": "markdown",
   "metadata": {},
   "source": [
    "## 5. Diferenciación simbólica"
   ]
  },
  {
   "cell_type": "code",
   "execution_count": 15,
   "metadata": {},
   "outputs": [
    {
     "data": {
      "text/latex": [
       "$\\displaystyle r_{1} \\sin{\\left(\\alpha + \\theta \\right)}$"
      ],
      "text/plain": [
       "r_1*sin(alpha + theta)"
      ]
     },
     "execution_count": 15,
     "metadata": {},
     "output_type": "execute_result"
    }
   ],
   "source": [
    "#Podemos encontrar la derivada de una expresión respecto a la variable de interés\n",
    "expr=r_1*sin(theta+alpha)\n",
    "expr"
   ]
  },
  {
   "cell_type": "code",
   "execution_count": 16,
   "metadata": {},
   "outputs": [
    {
     "data": {
      "text/latex": [
       "$\\displaystyle \\sin{\\left(\\alpha + \\theta \\right)}$"
      ],
      "text/plain": [
       "sin(alpha + theta)"
      ]
     },
     "execution_count": 16,
     "metadata": {},
     "output_type": "execute_result"
    }
   ],
   "source": [
    "expr.diff(r_1)"
   ]
  },
  {
   "cell_type": "code",
   "execution_count": 17,
   "metadata": {},
   "outputs": [
    {
     "data": {
      "text/latex": [
       "$\\displaystyle r_{1} \\cos{\\left(\\alpha + \\theta \\right)}$"
      ],
      "text/plain": [
       "r_1*cos(alpha + theta)"
      ]
     },
     "execution_count": 17,
     "metadata": {},
     "output_type": "execute_result"
    }
   ],
   "source": [
    "expr.diff(alpha)"
   ]
  },
  {
   "cell_type": "code",
   "execution_count": 18,
   "metadata": {},
   "outputs": [
    {
     "data": {
      "text/latex": [
       "$\\displaystyle x{\\left(t \\right)}$"
      ],
      "text/plain": [
       "x(t)"
      ]
     },
     "execution_count": 18,
     "metadata": {},
     "output_type": "execute_result"
    }
   ],
   "source": [
    "#A veces las variables en las expresiones pueden ser implicitamente función de otras.\n",
    "# Esto ocurre por ejemplo en sistemas dinámicos muchas variables son función del tiempo.\n",
    "# Para esto no se definen como symbol sino como funciones:\n",
    "\n",
    "from sympy import Function\n",
    "\n",
    "t=symbols('t')\n",
    "x=Function('x')\n",
    "\n",
    "expr=x(t)\n",
    "expr"
   ]
  },
  {
   "cell_type": "code",
   "execution_count": 19,
   "metadata": {},
   "outputs": [
    {
     "data": {
      "text/latex": [
       "$\\displaystyle 3 x^{2}{\\left(t \\right)} + 2 x{\\left(t \\right)} + 1$"
      ],
      "text/plain": [
       "3*x(t)**2 + 2*x(t) + 1"
      ]
     },
     "execution_count": 19,
     "metadata": {},
     "output_type": "execute_result"
    }
   ],
   "source": [
    "# Podemos crear expresiones más complicadas\n",
    "3*x(t)**2+2*x(t)+1"
   ]
  },
  {
   "cell_type": "code",
   "execution_count": 20,
   "metadata": {},
   "outputs": [
    {
     "data": {
      "text/latex": [
       "$\\displaystyle 6 x{\\left(t \\right)} \\frac{d}{d t} x{\\left(t \\right)} + 2 \\frac{d}{d t} x{\\left(t \\right)}$"
      ],
      "text/plain": [
       "6*x(t)*Derivative(x(t), t) + 2*Derivative(x(t), t)"
      ]
     },
     "execution_count": 20,
     "metadata": {},
     "output_type": "execute_result"
    }
   ],
   "source": [
    "# Podemos derivar respecto al simbolo t. Observe que diff aplica la regla de la cadena y aparecen términos dx/dt\n",
    "expr=3*x(t)**2+2*x(t)+1\n",
    "expr.diff(t)"
   ]
  },
  {
   "cell_type": "markdown",
   "metadata": {},
   "source": [
    "## 6. Integración simbólica"
   ]
  },
  {
   "cell_type": "code",
   "execution_count": 21,
   "metadata": {},
   "outputs": [
    {
     "data": {
      "text/latex": [
       "$\\displaystyle - r_{1} \\cos{\\left(\\theta \\right)}$"
      ],
      "text/plain": [
       "-r_1*cos(theta)"
      ]
     },
     "execution_count": 21,
     "metadata": {},
     "output_type": "execute_result"
    }
   ],
   "source": [
    "#La función es integrate. Pero observe que no añade una constante de integración y el usuario tendría que añadir ese término si es necesario\n",
    "expr=r_1*sin(theta)\n",
    "sympy.integrate(expr,theta)"
   ]
  },
  {
   "cell_type": "code",
   "execution_count": 22,
   "metadata": {},
   "outputs": [
    {
     "data": {
      "text/latex": [
       "$\\displaystyle 2 r_{1}$"
      ],
      "text/plain": [
       "2*r_1"
      ]
     },
     "execution_count": 22,
     "metadata": {},
     "output_type": "execute_result"
    }
   ],
   "source": [
    "#Podemos hacer integrales definidas\n",
    "expr=r_1*sin(theta)\n",
    "aa=sympy.integrate(expr,(theta,0,sympy.pi))\n",
    "aa"
   ]
  },
  {
   "cell_type": "markdown",
   "metadata": {},
   "source": [
    "## 7. Evaluación numérica"
   ]
  },
  {
   "cell_type": "code",
   "execution_count": 34,
   "metadata": {},
   "outputs": [
    {
     "data": {
      "text/plain": [
       "(-1.0, 1.0)"
      ]
     },
     "execution_count": 34,
     "metadata": {},
     "output_type": "execute_result"
    },
    {
     "data": {
      "image/png": "[encoded data removed]",
      "text/plain": [
       "<Figure size 640x480 with 1 Axes>"
      ]
     },
     "metadata": {},
     "output_type": "display_data"
    }
   ],
   "source": [
    "import numpy as np\n",
    "import matplotlib.pyplot as plt\n",
    "\n",
    "# Una vez se tienen expresiones simbólicas se puede evaluar reemplazando valores para las variables\n",
    "expr1=r_1*cos(theta)\n",
    "expr2=r_1*sin(theta)\n",
    "\n",
    "# Pruebe cambiar el angulo por otros valores\n",
    "valores=[(r_1,1),(theta,np.deg2rad(10))]\n",
    "\n",
    "p=[expr1.subs(valores),expr2.subs(valores)]\n",
    "\n",
    "plt.plot([0,p[0]],[0,p[1]])\n",
    "plt.xlim([-1,1])\n",
    "plt.ylim([-1,1])"
   ]
  },
  {
   "cell_type": "code",
   "execution_count": 36,
   "metadata": {},
   "outputs": [
    {
     "data": {
      "text/plain": [
       "[0.984807753012208, 0.173648177666930]"
      ]
     },
     "execution_count": 36,
     "metadata": {},
     "output_type": "execute_result"
    }
   ],
   "source": [
    "# Una forma más clara es convertir expresiones simbólicas en funciones que retornan un valor numérico\n",
    "\n",
    "expr1=r_1*cos(theta)\n",
    "expr2=r_1*sin(theta)\n",
    "\n",
    "\n",
    "def punto(r_1_numeric,theta_numeric):\n",
    "    valores=[(r_1,r_1_numeric),(theta,theta_numeric)]\n",
    "    p=[expr1.subs(valores),expr2.subs(valores)]\n",
    "    return p\n",
    "\n",
    "punto(1,np.deg2rad(10))"
   ]
  },
  {
   "cell_type": "markdown",
   "metadata": {},
   "source": [
    "De esta manera solo llamamos la función punto cada vez que queremos evaluar la expresión\n"
   ]
  },
  {
   "cell_type": "code",
   "execution_count": 319,
   "metadata": {},
   "outputs": [
    {
     "data": {
      "text/plain": [
       "0.984807753012208"
      ]
     },
     "execution_count": 319,
     "metadata": {},
     "output_type": "execute_result"
    }
   ],
   "source": [
    "# Sympy ya tiene incorporado un método para crear estas funciones y hacer la substitución más eficientemente.\n",
    "# Lambdify crea funciones que reciben los argumentos numericos y evalúa la substitución.\n",
    "\n",
    "expr1=r_1*cos(theta)\n",
    "\n",
    "expr1_fun=sympy.lambdify([r_1,theta],expr1)\n",
    "\n",
    "expr1_fun(1,np.deg2rad(10))"
   ]
  },
  {
   "cell_type": "code",
   "execution_count": 320,
   "metadata": {},
   "outputs": [],
   "source": [
    "expr1=r_1*cos(theta)\n",
    "expr2=r_1*sin(theta)\n",
    "\n",
    "expr1_fun=sympy.lambdify([r_1,theta],expr1)\n",
    "expr2_fun=sympy.lambdify([r_1,theta],expr2)"
   ]
  },
  {
   "cell_type": "code",
   "execution_count": 321,
   "metadata": {},
   "outputs": [
    {
     "data": {
      "text/plain": [
       "(-1.0, 1.0)"
      ]
     },
     "execution_count": 321,
     "metadata": {},
     "output_type": "execute_result"
    },
    {
     "data": {
      "image/png": "[encoded data removed]",
      "text/plain": [
       "<Figure size 640x480 with 1 Axes>"
      ]
     },
     "metadata": {},
     "output_type": "display_data"
    }
   ],
   "source": [
    "angulo=60\n",
    "radio=0.25\n",
    "p=[expr1_fun(radio,np.deg2rad(angulo)),expr2_fun(radio,np.deg2rad(angulo))]\n",
    "plt.plot([0,p[0]],[0,p[1]])\n",
    "plt.xlim([-1,1])\n",
    "plt.ylim([-1,1])"
   ]
  },
  {
   "cell_type": "code",
   "execution_count": 322,
   "metadata": {},
   "outputs": [
    {
     "data": {
      "text/plain": [
       "[<matplotlib.lines.Line2D at 0x1b65302cbd0>]"
      ]
     },
     "execution_count": 322,
     "metadata": {},
     "output_type": "execute_result"
    },
    {
     "data": {
      "image/png": "[encoded data removed]",
      "text/plain": [
       "<Figure size 640x480 with 1 Axes>"
      ]
     },
     "metadata": {},
     "output_type": "display_data"
    }
   ],
   "source": [
    "# También se puede configurar sympy para que se puedan evaluar muchos valores al tiempo de nuestra función\n",
    "x=symbols(\"x\")\n",
    "y=x - x**3/6 + x**5/120 # Dato curioso: Estos son los primeros 3 términos de la serie de taylor de seno. \n",
    "\n",
    "y_func=sympy.lambdify(x,y,\"numpy\") #Se ingresa como primer término la variable que queremos hacer lambdify, después la función, y por último numpy \n",
    "\n",
    "#Lo anterior nos permite ingresar sets de datos como inputs y evaluar muchos datos al tiempo\n",
    "\n",
    "xx=np.linspace(-3,3,100) #Todos los datos que queremos evaluar, en este caso evaluamos 100 datos desde -3 hasta 3\n",
    "yy=y_func(xx) #Se crea un set de soluciones\n",
    "\n",
    "plt.plot(xx,yy)\n",
    "\n",
    "\n"
   ]
  }
 ],
 "metadata": {
  "kernelspec": {
   "display_name": "Python 3 (ipykernel)",
   "language": "python",
   "name": "python3"
  },
  "language_info": {
   "codemirror_mode": {
    "name": "ipython",
    "version": 3
   },
   "file_extension": ".py",
   "mimetype": "text/x-python",
   "name": "python",
   "nbconvert_exporter": "python",
   "pygments_lexer": "ipython3",
   "version": "3.12.2"
  },
  "toc": {
   "base_numbering": 1,
   "nav_menu": {},
   "number_sections": false,
   "sideBar": true,
   "skip_h1_title": true,
   "title_cell": "Table of Contents",
   "title_sidebar": "Contents",
   "toc_cell": false,
   "toc_position": {},
   "toc_section_display": true,
   "toc_window_display": false
  }
 },
 "nbformat": 4,
 "nbformat_minor": 4
}
