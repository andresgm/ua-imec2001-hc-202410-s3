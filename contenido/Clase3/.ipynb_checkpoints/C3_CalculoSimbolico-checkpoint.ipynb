{
 "cells": [
  {
   "cell_type": "markdown",
   "metadata": {},
   "source": [
    "# IMEC2001 Herramientas Computacionales \n",
    "## Clase 3 - Derivación e integración simbólica\n",
    "\n",
    "---\n",
    "\n",
    "## TABLA DE CONTENIDO\n",
    "\n",
    "\n",
    "- 1. Concepto de objeto\n",
    "- 2. Cargar Librerías sympy\n",
    "- 3. Objeto symbol\n",
    "- 4. Operaciones matemáticas y expresiones simbólicas\n",
    "- 4. Diferenciación\n",
    "- 5. Integración"
   ]
  },
  {
   "cell_type": "markdown",
   "metadata": {},
   "source": [
    "<a id=\"section1\"></a>\n",
    "# Sección 1: Datos Tabulares con `pandas`"
   ]
  },
  {
   "cell_type": "markdown",
   "metadata": {},
   "source": [
    "## 1. Concepto de Objeto\n",
    "\n",
    "Un objeto es una collección de variables y métodos.\n",
    "Estas variables y métodos se definen a través de una 'clase' que especifica la descripción de los objetos que comparten un mismo tipo."
   ]
  },
  {
   "cell_type": "code",
   "execution_count": 2,
   "metadata": {},
   "outputs": [],
   "source": [
    "class Estudiante:\n",
    "    nombre = \"\"\n",
    "    apellido = \"\"\n",
    "    cursoFavorito= \"\""
   ]
  },
  {
   "cell_type": "markdown",
   "metadata": {},
   "source": [
    "Esta clase definió unicamente variables para un estudiante"
   ]
  },
  {
   "cell_type": "code",
   "execution_count": 5,
   "metadata": {},
   "outputs": [
    {
     "data": {
      "text/plain": [
       "__main__.Estudiante"
      ]
     },
     "execution_count": 5,
     "metadata": {},
     "output_type": "execute_result"
    }
   ],
   "source": [
    "#Podemos crear un objeto de tipo estudiante:\n",
    "juan=Estudiante()\n",
    "type(juan)"
   ]
  },
  {
   "cell_type": "code",
   "execution_count": 7,
   "metadata": {},
   "outputs": [
    {
     "name": "stdout",
     "output_type": "stream",
     "text": [
      "hola, mi nombre es  , mi curso favorito es \n"
     ]
    }
   ],
   "source": [
    "class Estudiante:\n",
    "    nombre = \"\"\n",
    "    apellido = \"\"\n",
    "    cursoFavorito= \"\"\n",
    "\n",
    "    def\n",
    "\n",
    "    def saluda(self):\n",
    "        print('hola, mi nombre es {} {}, mi curso favorito es {}'.format(self.nombre,self.apellido,self.cursoFavorito))\n",
    "\n",
    "juan=Estudiante()\n",
    "juan.saluda()"
   ]
  }
 ],
 "metadata": {
  "kernelspec": {
   "display_name": "Python 3 (ipykernel)",
   "language": "python",
   "name": "python3"
  },
  "language_info": {
   "codemirror_mode": {
    "name": "ipython",
    "version": 3
   },
   "file_extension": ".py",
   "mimetype": "text/x-python",
   "name": "python",
   "nbconvert_exporter": "python",
   "pygments_lexer": "ipython3",
   "version": "3.11.2"
  },
  "toc": {
   "base_numbering": 1,
   "nav_menu": {},
   "number_sections": false,
   "sideBar": true,
   "skip_h1_title": true,
   "title_cell": "Table of Contents",
   "title_sidebar": "Contents",
   "toc_cell": false,
   "toc_position": {},
   "toc_section_display": true,
   "toc_window_display": false
  }
 },
 "nbformat": 4,
 "nbformat_minor": 4
}
