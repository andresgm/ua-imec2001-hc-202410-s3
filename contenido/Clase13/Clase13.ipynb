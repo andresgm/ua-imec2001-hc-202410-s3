{
 "cells": [
  {
   "cell_type": "markdown",
   "id": "627f69f2",
   "metadata": {},
   "source": [
    "# IMEC2001 Herramientas Computacionales \n",
    "## Clase 13 - Modelamiento desde datos\n",
    "\n",
    "\n",
    "## TABLA DE CONTENIDO\n",
    "\n",
    "- 1.1. Incertidumbre con la librería `uncertainties`\n",
    "- 1.2. Modelos Estadísticos con `scipy.stats`\n",
    "- 1.3. Machine Learning con sklearn\n",
    "- 1.4. Clasificación con K-Nearest Neighbors (KNN)\n",
    "\n",
    "En esta clase se exploran varias técnicas y operaciones fundamentales con OpenCV que permitirán comenzar a trabajar en el procesamiento y análisis de imágenes.\n",
    "Este cuaderno cubre la manipulación básica hasta conceptos más avanzados como detección de contornos y transformaciones morfológicas. \n",
    "\n",
    "\n",
    "## 1.1 Incertidumbre con la librería `uncertainties`\n",
    "\n",
    "La librería `uncertainties` permite manejar cálculos con incertidumbres (errores) de manera automática. Es especialmente útil en el ámbito científico e ingenieril donde las mediciones tienen asociadas ciertas incertidumbres."
   ]
  },
  {
   "cell_type": "code",
   "execution_count": 2,
   "id": "4863244e",
   "metadata": {},
   "outputs": [
    {
     "name": "stdout",
     "output_type": "stream",
     "text": [
      "Collecting uncertainties"
     ]
    },
    {
     "name": "stderr",
     "output_type": "stream",
     "text": [
      "\n",
      "[notice] A new release of pip is available: 23.2.1 -> 24.0\n",
      "[notice] To update, run: python.exe -m pip install --upgrade pip\n"
     ]
    },
    {
     "name": "stdout",
     "output_type": "stream",
     "text": [
      "\n",
      "  Obtaining dependency information for uncertainties from https://files.pythonhosted.org/packages/13/f7/9d94eeea3f6475456fb5c6b72d3a3cc652c1ecd342c5491274cbfc9ebaab/uncertainties-3.1.7-py2.py3-none-any.whl.metadata\n",
      "  Downloading uncertainties-3.1.7-py2.py3-none-any.whl.metadata (14 kB)\n",
      "Collecting future (from uncertainties)\n",
      "  Obtaining dependency information for future from https://files.pythonhosted.org/packages/da/71/ae30dadffc90b9006d77af76b393cb9dfbfc9629f339fc1574a1c52e6806/future-1.0.0-py3-none-any.whl.metadata\n",
      "  Downloading future-1.0.0-py3-none-any.whl.metadata (4.0 kB)\n",
      "Using cached uncertainties-3.1.7-py2.py3-none-any.whl (98 kB)\n",
      "Downloading future-1.0.0-py3-none-any.whl (491 kB)\n",
      "   ---------------------------------------- 0.0/491.3 kB ? eta -:--:--\n",
      "    --------------------------------------- 10.2/491.3 kB ? eta -:--:--\n",
      "   -- ------------------------------------ 30.7/491.3 kB 660.6 kB/s eta 0:00:01\n",
      "   -- ------------------------------------ 30.7/491.3 kB 660.6 kB/s eta 0:00:01\n",
      "   --- ----------------------------------- 41.0/491.3 kB 219.4 kB/s eta 0:00:03\n",
      "   ---- ---------------------------------- 61.4/491.3 kB 297.7 kB/s eta 0:00:02\n",
      "   -------- ----------------------------- 112.6/491.3 kB 437.6 kB/s eta 0:00:01\n",
      "   -------- ----------------------------- 112.6/491.3 kB 437.6 kB/s eta 0:00:01\n",
      "   ----------- -------------------------- 143.4/491.3 kB 405.9 kB/s eta 0:00:01\n",
      "   --------------- ---------------------- 204.8/491.3 kB 518.8 kB/s eta 0:00:01\n",
      "   ---------------------- --------------- 286.7/491.3 kB 655.2 kB/s eta 0:00:01\n",
      "   ---------------------- --------------- 286.7/491.3 kB 655.2 kB/s eta 0:00:01\n",
      "   ---------------------------- --------- 368.6/491.3 kB 695.9 kB/s eta 0:00:01\n",
      "   -------------------------------------  481.3/491.3 kB 838.1 kB/s eta 0:00:01\n",
      "   -------------------------------------- 491.3/491.3 kB 832.3 kB/s eta 0:00:00\n",
      "Installing collected packages: future, uncertainties\n",
      "Successfully installed future-1.0.0 uncertainties-3.1.7\n",
      "Collecting scikit-learn\n",
      "  Obtaining dependency information for scikit-learn from https://files.pythonhosted.org/packages/7b/0e/25d6b5678ed3c7e12bc94d047d0e9492e89cc78b7ea0034ac0f1cf2ff304/scikit_learn-1.4.1.post1-cp311-cp311-win_amd64.whl.metadata\n",
      "  Downloading scikit_learn-1.4.1.post1-cp311-cp311-win_amd64.whl.metadata (11 kB)\n",
      "Requirement already satisfied: numpy<2.0,>=1.19.5 in c:\\users\\jcl00\\pyenvs\\math\\lib\\site-packages (from scikit-learn) (1.26.1)\n",
      "Requirement already satisfied: scipy>=1.6.0 in c:\\users\\jcl00\\pyenvs\\math\\lib\\site-packages (from scikit-learn) (1.11.3)\n",
      "Collecting joblib>=1.2.0 (from scikit-learn)\n",
      "  Obtaining dependency information for joblib>=1.2.0 from https://files.pythonhosted.org/packages/10/40/d551139c85db202f1f384ba8bcf96aca2f329440a844f924c8a0040b6d02/joblib-1.3.2-py3-none-any.whl.metadata\n",
      "  Using cached joblib-1.3.2-py3-none-any.whl.metadata (5.4 kB)\n",
      "Collecting threadpoolctl>=2.0.0 (from scikit-learn)\n",
      "  Obtaining dependency information for threadpoolctl>=2.0.0 from https://files.pythonhosted.org/packages/b1/2c/f504e55d98418f2fcf756a56877e6d9a45dd5ed28b3d7c267b300e85ad5b/threadpoolctl-3.3.0-py3-none-any.whl.metadata\n",
      "  Downloading threadpoolctl-3.3.0-py3-none-any.whl.metadata (13 kB)\n",
      "Downloading scikit_learn-1.4.1.post1-cp311-cp311-win_amd64.whl (10.6 MB)\n",
      "   ---------------------------------------- 0.0/10.6 MB ? eta -:--:--\n",
      "   ---------------------------------------- 0.0/10.6 MB ? eta -:--:--\n",
      "   ---------------------------------------- 0.0/10.6 MB 435.7 kB/s eta 0:00:25\n",
      "   ---------------------------------------- 0.0/10.6 MB 435.7 kB/s eta 0:00:25\n",
      "   ---------------------------------------- 0.0/10.6 MB 435.7 kB/s eta 0:00:25\n",
      "   ---------------------------------------- 0.1/10.6 MB 273.8 kB/s eta 0:00:39\n",
      "   ---------------------------------------- 0.1/10.6 MB 409.6 kB/s eta 0:00:26\n",
      "   ---------------------------------------- 0.1/10.6 MB 409.6 kB/s eta 0:00:26\n",
      "   ---------------------------------------- 0.1/10.6 MB 343.4 kB/s eta 0:00:31\n",
      "    --------------------------------------- 0.2/10.6 MB 472.6 kB/s eta 0:00:23\n",
      "    --------------------------------------- 0.3/10.6 MB 582.4 kB/s eta 0:00:18\n",
      "   - -------------------------------------- 0.3/10.6 MB 632.7 kB/s eta 0:00:17\n",
      "   - -------------------------------------- 0.3/10.6 MB 596.5 kB/s eta 0:00:18\n",
      "   - -------------------------------------- 0.5/10.6 MB 783.5 kB/s eta 0:00:14\n",
      "   -- ------------------------------------- 0.5/10.6 MB 857.5 kB/s eta 0:00:12\n",
      "   -- ------------------------------------- 0.6/10.6 MB 868.4 kB/s eta 0:00:12\n",
      "   -- ------------------------------------- 0.6/10.6 MB 859.4 kB/s eta 0:00:12\n",
      "   -- ------------------------------------- 0.7/10.6 MB 969.4 kB/s eta 0:00:11\n",
      "   --- ------------------------------------ 1.0/10.6 MB 1.2 MB/s eta 0:00:09\n",
      "   ---- ----------------------------------- 1.1/10.6 MB 1.3 MB/s eta 0:00:08\n",
      "   ---- ----------------------------------- 1.2/10.6 MB 1.3 MB/s eta 0:00:08\n",
      "   ----- ---------------------------------- 1.5/10.6 MB 1.6 MB/s eta 0:00:06\n",
      "   ------- -------------------------------- 2.0/10.6 MB 2.0 MB/s eta 0:00:05\n",
      "   -------- ------------------------------- 2.2/10.6 MB 2.2 MB/s eta 0:00:04\n",
      "   --------- ------------------------------ 2.5/10.6 MB 2.3 MB/s eta 0:00:04\n",
      "   ------------ --------------------------- 3.2/10.6 MB 2.9 MB/s eta 0:00:03\n",
      "   --------------- ------------------------ 4.2/10.6 MB 3.6 MB/s eta 0:00:02\n",
      "   ----------------- ---------------------- 4.5/10.6 MB 3.8 MB/s eta 0:00:02\n",
      "   -------------------- ------------------- 5.4/10.6 MB 4.3 MB/s eta 0:00:02\n",
      "   ------------------------- -------------- 6.8/10.6 MB 5.2 MB/s eta 0:00:01\n",
      "   -------------------------------- ------- 8.8/10.6 MB 6.5 MB/s eta 0:00:01\n",
      "   ---------------------------------- ----- 9.1/10.6 MB 6.6 MB/s eta 0:00:01\n",
      "   ---------------------------------------  10.6/10.6 MB 11.7 MB/s eta 0:00:01\n",
      "   ---------------------------------------  10.6/10.6 MB 11.7 MB/s eta 0:00:01\n",
      "   ---------------------------------------  10.6/10.6 MB 11.7 MB/s eta 0:00:01\n",
      "   ---------------------------------------  10.6/10.6 MB 11.7 MB/s eta 0:00:01\n",
      "   ---------------------------------------- 10.6/10.6 MB 9.6 MB/s eta 0:00:00\n",
      "Using cached joblib-1.3.2-py3-none-any.whl (302 kB)\n",
      "Downloading threadpoolctl-3.3.0-py3-none-any.whl (17 kB)\n",
      "Installing collected packages: threadpoolctl, joblib, scikit-learn\n",
      "Successfully installed joblib-1.3.2 scikit-learn-1.4.1.post1 threadpoolctl-3.3.0\n"
     ]
    },
    {
     "name": "stderr",
     "output_type": "stream",
     "text": [
      "\n",
      "[notice] A new release of pip is available: 23.2.1 -> 24.0\n",
      "[notice] To update, run: python.exe -m pip install --upgrade pip\n"
     ]
    }
   ],
   "source": [
    "!pip install uncertainties\n",
    "!pip install scikit-learn"
   ]
  },
  {
   "cell_type": "code",
   "execution_count": 9,
   "id": "fecd3ca9",
   "metadata": {},
   "outputs": [
    {
     "name": "stdout",
     "output_type": "stream",
     "text": [
      "50+/-4\n",
      "(6.0+/-0.8)e+02\n"
     ]
    },
    {
     "data": {
      "text/plain": [
       "uncertainties.core.Variable"
      ]
     },
     "execution_count": 9,
     "metadata": {},
     "output_type": "execute_result"
    }
   ],
   "source": [
    "from uncertainties import ufloat\n",
    "\n",
    "# Definimos dos medidas con sus respectivas incertidumbres\n",
    "x = ufloat(20, 2)  # x = 20 ± 2\n",
    "y = ufloat(30, 3)  # y = 30 ± 3\n",
    "\n",
    "# Operaciones básicas mantienen la propagación del error\n",
    "z = x + y  \n",
    "print(z)  \n",
    "\n",
    "w = x * y  \n",
    "print(w)\n",
    "\n",
    "\n",
    "type(x)"
   ]
  },
  {
   "cell_type": "code",
   "execution_count": 11,
   "id": "952dfdd4-b5a4-4c61-b3ae-46d6fe1be201",
   "metadata": {},
   "outputs": [
    {
     "data": {
      "text/plain": [
       "20.0+/-2.0"
      ]
     },
     "execution_count": 11,
     "metadata": {},
     "output_type": "execute_result"
    }
   ],
   "source": [
    "import numpy as np\n",
    "x%y"
   ]
  },
  {
   "cell_type": "markdown",
   "id": "95b96c93",
   "metadata": {},
   "source": [
    "## 1.2. Modelos Estadísticos con `scipy.stats`\n",
    "\n",
    "Vamos a generar algunos datos aleatorios siguiendo una distribución normal y luego ajustaremos estos datos a una distribución utilizando `scipy.stats`. \n",
    "\n",
    "En este código se genera un histograma de los datos aleatorios y superpone la curva de densidad de probabilidad del ajuste realizado. Es una forma sencilla pero poderosa de visualizar cómo se ajustan los datos a una distribución teórica."
   ]
  },
  {
   "cell_type": "code",
   "execution_count": 12,
   "id": "8f1fe3f2",
   "metadata": {},
   "outputs": [
    {
     "data": {
      "image/png": "[encoded data removed]",
      "text/plain": [
       "<Figure size 640x480 with 1 Axes>"
      ]
     },
     "metadata": {},
     "output_type": "display_data"
    }
   ],
   "source": [
    "import numpy as np \n",
    "import matplotlib.pyplot as plt \n",
    "from scipy.stats import norm \n",
    "\n",
    "# Generamos datos aleatorios\n",
    "data = np.random.normal(loc=0, scale=1, size=1000)\n",
    "\n",
    "# Ajustamos los datos a una distribución normal \n",
    "mu_estimado , std_estimado = norm.fit(data)\n",
    "\n",
    "# Graficamos los resultados \n",
    "plt.hist(data,bins=25,density=True,alpha=0.6,color='g')\n",
    "\n",
    "xmin,xmax=plt.xlim()\n",
    "x=np.linspace(xmin,xmax)\n",
    "p=norm.pdf(x,mu_estimado,std_estimado)\n",
    "\n",
    "plt.plot(x, p, 'k', linewidth=2)\n",
    "title = \"Ajuste: mu = %.2f,  std = %.2f\" % (mu_estimado, std_estimado)\n",
    "plt.title(title)\n",
    "\n",
    "plt.show()"
   ]
  },
  {
   "cell_type": "code",
   "execution_count": 28,
   "id": "cf57200d-a7f3-4277-89c6-f4b3cedf9e05",
   "metadata": {},
   "outputs": [
    {
     "data": {
      "text/plain": [
       "array([-5.99780702])"
      ]
     },
     "execution_count": 28,
     "metadata": {},
     "output_type": "execute_result"
    }
   ],
   "source": [
    "#mu_estimado , std_estimado \n",
    "import scipy\n",
    "from scipy.optimize import fsolve\n",
    "\n",
    "def search_fun(x):\n",
    "    return scipy.stats.norm.cdf(x)-0.000000001\n",
    "    \n",
    "fsolve(search_fun,-2)\n",
    "\n"
   ]
  },
  {
   "cell_type": "markdown",
   "id": "b472d6b8",
   "metadata": {},
   "source": [
    "## 1.3. Machine Learning con `sklearn`\n",
    "\n",
    "La base de todos los algoritmos modernos de aprendizaje es, esencialmente, el Aprendizaje Estadístico. Dentro del campo del aprendizaje estadístico se encuentra el aprendizaje automático (machine learning). Un subconjunto del aprendizaje automático incluye el aprendizaje profundo (deep learning), es decir, tenemos una jerarquía que podría representarse como Aprendizaje Estadístico (Aprendizaje Automático (Aprendizaje Profundo)).\n",
    "\n",
    "Si observamos en detalle la esencia de lo que se está aprendiendo en estos campos, nos daremos cuenta de que se trata simplemente de una distribución multivariante compleja con una forma algo nebulosa. Y debido a que es multivariante (captura múltiples influencias), existe dentro de un espacio de alta dimensión.\n",
    "\n",
    "Para desglosarlo más claramente:\n",
    "\n",
    "- **Aprendizaje Estadístico**: Este término abarca todas las técnicas y métodos donde utilizamos conceptos estadísticos para inferir patrones o hacer predicciones a partir de datos. Es la base sobre la cual se construyen metodologías más específicas como el machine learning y deep learning.\n",
    "\n",
    "- **Machine Learning**: Como parte del aprendizaje estadístico, el machine learning enfoca sus técnicas hacia algoritmos capaces de aprender a realizar tareas sin ser explícitamente programados para cada situación específica. Utiliza grandes cantidades de datos para \"aprender\" cómo resolver problemas o tomar decisiones basadas en ejemplos pasados.\n",
    "\n",
    "- **Deep Learning**: El deep learning es un subcampo aún más especializado dentro del machine learning. Se caracteriza por utilizar redes neuronales profundas —estructuras inspiradas en cómo funcionan las neuronas en el cerebro humano— para modelar relaciones muy complejas entre los datos. Gracias a su capacidad para manejar enormes volúmenes de información y capturar características intrincadas, ha logrado avances significativos en áreas como reconocimiento visual y procesamiento natural del lenguaje.\n",
    "\n",
    "Cuando hablamos acerca del \"aprendido\", nos referimos fundamentalmente a entender y modelar distribuciones multivariantes complejas; estas son representaciones matemáticas que pueden describir cómo varias variables interactúan entre sí dentro un conjunto grande de datos. \n",
    "\n",
    "Scikit-learn es probablemente la librería más popular para Machine Learning en Python. Ofrece herramientas simples y eficientes para análisis predictivo y modelado estadístico.\n",
    "\n",
    "En este ejemplo vamos a crear un modelo simple usando regresión lineal para predecir resultados basados en un conjunto único predictor.\n"
   ]
  },
  {
   "cell_type": "code",
   "execution_count": 29,
   "id": "9e779ebe",
   "metadata": {},
   "outputs": [
    {
     "data": {
      "image/png": "[encoded data removed]",
      "text/plain": [
       "<Figure size 640x480 with 1 Axes>"
      ]
     },
     "metadata": {},
     "output_type": "display_data"
    },
    {
     "name": "stdout",
     "output_type": "stream",
     "text": [
      "Coeficiente: [[3.02100813]]\n",
      "Intercepto: [4.93225542]\n"
     ]
    }
   ],
   "source": [
    "from sklearn.model_selection import train_test_split \n",
    "from sklearn.linear_model import LinearRegression\n",
    "import numpy as np\n",
    "import matplotlib.pyplot as plt\n",
    "\n",
    "# Generamos algunos datos sintéticos\n",
    "X = 10 * np.random.rand(100,1)\n",
    "y = 3 * X + np.random.randn(100,1) + 5\n",
    "\n",
    "# Dividimos los datos en entrenamiento y prueba \n",
    "X_train,X_test,y_train,y_test=train_test_split(X,y,test_size=0.2)\n",
    "\n",
    "# Creamos el modelo y lo entrenamos \n",
    "model=LinearRegression()\n",
    "model.fit(X_train,y_train)\n",
    "\n",
    "# Realizamos predicciones sobre el conjunto de prueba \n",
    "predictions=model.predict(X_test)\n",
    "\n",
    "# Visualizamos las predicciones comparadas con los valores reales \n",
    "plt.scatter(X_test,y_test,label='Datos Reales')\n",
    "plt.plot(X_test,predictions,color='red',label='Predicción')\n",
    "plt.legend()\n",
    "plt.show()\n",
    "\n",
    "print(\"Coeficiente:\", model.coef_)\n",
    "print(\"Intercepto:\", model.intercept_)\n"
   ]
  },
  {
   "cell_type": "markdown",
   "id": "30c8d0a7",
   "metadata": {},
   "source": [
    "En este ejemplo generamos primero unos datos sintéticos que siguen aproximadamente una relación lineal. Luego dividimos estos datos en conjuntos de entrenamiento y prueba. Entrenamos nuestro modelo (`LinearRegression`) con los datos de entrenamiento y realizamos predicciones sobre el conjunto de prueba. Finalmente visualizamos estas predicciones comparándolas con los valores reales para tener una idea de cómo se desempeña el modelo. También imprimimos el coeficiente e intercepto del modelo, que representan la pendiente y el punto donde la línea de regresión cruza el eje Y, respectivamente."
   ]
  },
  {
   "cell_type": "markdown",
   "id": "2351ac83",
   "metadata": {},
   "source": [
    "## 1.4. Clasificación con K-Nearest Neighbors (KNN)\n",
    "\n",
    "Otro problema común en Machine Learning es la clasificación. Vamos a ver un ejemplo usando el algoritmo K-Nearest Neighbors (KNN), que es intuitivo y fácil de entender.\n",
    "\n",
    "En este caso utilizamos `load_iris` desde `sklearn.datasets` para cargar un conjunto de datos popular utilizado frecuentemente como introducción a técnicas de clasificación. El dataset Iris contiene medidas físicas para tres especies diferentes de flores del género Iris. Nuestro objetivo es construir un modelo capaz de predecir la especie basada en estas medidas físicas.\n",
    "\n",
    "Después dividimos nuestros datos entre conjuntos para entrenamiento y prueba. Utilizamos entonces `KNeighborsClassifier` para crear nuestro modelo especificando \\(k=3\\), lo cual significa que miraremos los 3 vecinos más cercanos cuando hagamos nuestras predicciones. Finalmente evaluamos nuestra precisión sobre el conjunto no visto durante entrenamiento (conjunto de prueba)."
   ]
  },
  {
   "cell_type": "code",
   "execution_count": 37,
   "id": "fdc61553",
   "metadata": {},
   "outputs": [
    {
     "name": "stdout",
     "output_type": "stream",
     "text": [
      "Precisión del Modelo: 93.33%\n"
     ]
    }
   ],
   "source": [
    "from sklearn.datasets import load_iris\n",
    "from sklearn.model_selection import train_test_split\n",
    "from sklearn.neighbors import KNeighborsClassifier\n",
    "\n",
    "# Cargamos un conjunto de datos predefinido \n",
    "iris = load_iris()\n",
    "X = iris.data\n",
    "y = iris.target\n",
    "\n",
    "# Dividimos los datos en entrenamiento y prueba \n",
    "X_train, X_test, y_train, y_test = train_test_split(X, y, test_size=0.2)\n",
    "\n",
    "# Creamos el modelo KNN con k=3 \n",
    "knn = KNeighborsClassifier(n_neighbors=3)\n",
    "\n",
    "# Entrenamos nuestro modelo \n",
    "knn.fit(X_train,y_train)\n",
    "\n",
    "# Evaluamos su precisión sobre el conjunto de prueba \n",
    "accuracy=knn.score(X_test,y_test)\n",
    "print(f'Precisión del Modelo: {accuracy*100:.2f}%')\n"
   ]
  },
  {
   "cell_type": "code",
   "execution_count": 32,
   "id": "bf0109ed-79ed-41da-90fc-722b90ef2780",
   "metadata": {},
   "outputs": [
    {
     "data": {
      "text/plain": [
       "array([0, 0, 0, 0, 0, 0, 0, 0, 0, 0, 0, 0, 0, 0, 0, 0, 0, 0, 0, 0, 0, 0,\n",
       "       0, 0, 0, 0, 0, 0, 0, 0, 0, 0, 0, 0, 0, 0, 0, 0, 0, 0, 0, 0, 0, 0,\n",
       "       0, 0, 0, 0, 0, 0, 1, 1, 1, 1, 1, 1, 1, 1, 1, 1, 1, 1, 1, 1, 1, 1,\n",
       "       1, 1, 1, 1, 1, 1, 1, 1, 1, 1, 1, 1, 1, 1, 1, 1, 1, 1, 1, 1, 1, 1,\n",
       "       1, 1, 1, 1, 1, 1, 1, 1, 1, 1, 1, 1, 2, 2, 2, 2, 2, 2, 2, 2, 2, 2,\n",
       "       2, 2, 2, 2, 2, 2, 2, 2, 2, 2, 2, 2, 2, 2, 2, 2, 2, 2, 2, 2, 2, 2,\n",
       "       2, 2, 2, 2, 2, 2, 2, 2, 2, 2, 2, 2, 2, 2, 2, 2, 2, 2])"
      ]
     },
     "execution_count": 32,
     "metadata": {},
     "output_type": "execute_result"
    }
   ],
   "source": [
    "y"
   ]
  }
 ],
 "metadata": {
  "kernelspec": {
   "display_name": "Python 3 (ipykernel)",
   "language": "python",
   "name": "python3"
  },
  "language_info": {
   "codemirror_mode": {
    "name": "ipython",
    "version": 3
   },
   "file_extension": ".py",
   "mimetype": "text/x-python",
   "name": "python",
   "nbconvert_exporter": "python",
   "pygments_lexer": "ipython3",
   "version": "3.11.2"
  }
 },
 "nbformat": 4,
 "nbformat_minor": 5
}
